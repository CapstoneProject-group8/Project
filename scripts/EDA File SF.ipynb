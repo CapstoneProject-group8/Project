{
 "cells": [
  {
   "cell_type": "code",
   "execution_count": 44,
   "id": "157cdc6b",
   "metadata": {},
   "outputs": [],
   "source": [
    "import numpy as np \n",
    "import pandas as pd \n",
    "import os\n",
    "import matplotlib.pyplot as plt\n",
    "import seaborn as sns; sns.set(style='darkgrid')\n",
    "\n",
    "import re\n",
    "import string\n",
    "# os.chdir('c:\\\\Users\\\\Owner\\\\Desktop\\\\Sem4\\\\Capstone\\\\Project\\\\')\n",
    "# os.getcwd()"
   ]
  },
  {
   "cell_type": "markdown",
   "id": "780a5921",
   "metadata": {},
   "source": [
    "# ***Topics in EDA***\n",
    "#### 1. Basic Information about Data\n",
    "#### 2. Understanding the data and removing unwanted\n",
    "#### 3. Analysis on \"Text\"\n",
    "        - Hashtag Analysis - Textual\n",
    "        - Tweets Analysis - Timeline\n",
    "#### 4. Analysis on \"Location\" field"
   ]
  },
  {
   "cell_type": "markdown",
   "id": "eb3ccd77",
   "metadata": {},
   "source": [
    "#### ***Reading the scrapped data and assigning into dataframe called \"tweets\"***"
   ]
  },
  {
   "cell_type": "code",
   "execution_count": 45,
   "id": "628c8f8e-b49d-4e5a-93c3-fc3c0fb5d015",
   "metadata": {},
   "outputs": [],
   "source": [
    "\n",
    "tweets = pd.read_csv(\"/Users/nikhiljoshi/Capstone Project/EDA Files/tweetfinalv2.csv\")"
   ]
  },
  {
   "cell_type": "markdown",
   "id": "ef7cca91",
   "metadata": {},
   "source": [
    "#### 1. Basic Information about Data"
   ]
  },
  {
   "cell_type": "code",
   "execution_count": 46,
   "id": "7df17414-31b5-4207-af39-92e6d4daaa94",
   "metadata": {},
   "outputs": [
    {
     "name": "stdout",
     "output_type": "stream",
     "text": [
      "<class 'pandas.core.frame.DataFrame'>\n",
      "RangeIndex: 619820 entries, 0 to 619819\n",
      "Data columns (total 10 columns):\n",
      " #   Column    Non-Null Count   Dtype \n",
      "---  ------    --------------   ----- \n",
      " 0   Datetime  619820 non-null  object\n",
      " 1   Tweet Id  619820 non-null  int64 \n",
      " 2   Text      619820 non-null  object\n",
      " 3   Username  619820 non-null  object\n",
      " 4   Location  464655 non-null  object\n",
      " 5   Retweet   619820 non-null  int64 \n",
      " 6   Like      619820 non-null  int64 \n",
      " 7   Place     20430 non-null   object\n",
      " 8   Lang      619820 non-null  object\n",
      " 9   Hashtags  619637 non-null  object\n",
      "dtypes: int64(3), object(7)\n",
      "memory usage: 47.3+ MB\n"
     ]
    }
   ],
   "source": [
    "tweets.info()"
   ]
  },
  {
   "cell_type": "code",
   "execution_count": 47,
   "id": "6506a8dc-8efe-49e7-96a1-48e27fd49728",
   "metadata": {},
   "outputs": [
    {
     "data": {
      "text/html": [
       "<div>\n",
       "<style scoped>\n",
       "    .dataframe tbody tr th:only-of-type {\n",
       "        vertical-align: middle;\n",
       "    }\n",
       "\n",
       "    .dataframe tbody tr th {\n",
       "        vertical-align: top;\n",
       "    }\n",
       "\n",
       "    .dataframe thead th {\n",
       "        text-align: right;\n",
       "    }\n",
       "</style>\n",
       "<table border=\"1\" class=\"dataframe\">\n",
       "  <thead>\n",
       "    <tr style=\"text-align: right;\">\n",
       "      <th></th>\n",
       "      <th>Datetime</th>\n",
       "      <th>Tweet Id</th>\n",
       "      <th>Text</th>\n",
       "      <th>Username</th>\n",
       "      <th>Location</th>\n",
       "      <th>Retweet</th>\n",
       "      <th>Like</th>\n",
       "      <th>Place</th>\n",
       "      <th>Lang</th>\n",
       "      <th>Hashtags</th>\n",
       "    </tr>\n",
       "  </thead>\n",
       "  <tbody>\n",
       "    <tr>\n",
       "      <th>0</th>\n",
       "      <td>2022-05-28 21:21:47+00:00</td>\n",
       "      <td>1530660629899579393</td>\n",
       "      <td>Già, il #chinesevirus !!!\\nArticolo molto inte...</td>\n",
       "      <td>FlavioPozza</td>\n",
       "      <td>NaN</td>\n",
       "      <td>0</td>\n",
       "      <td>0</td>\n",
       "      <td>NaN</td>\n",
       "      <td>it</td>\n",
       "      <td>['chinesevirus', 'maisinistra']</td>\n",
       "    </tr>\n",
       "    <tr>\n",
       "      <th>1</th>\n",
       "      <td>2022-05-28 19:45:20+00:00</td>\n",
       "      <td>1530636359492423680</td>\n",
       "      <td>VACUNAS DEL #chinesevirus MATAN MÁS! https://t...</td>\n",
       "      <td>JotaMTG</td>\n",
       "      <td>Blumenau - SC - Brazil</td>\n",
       "      <td>3</td>\n",
       "      <td>1</td>\n",
       "      <td>NaN</td>\n",
       "      <td>es</td>\n",
       "      <td>['chinesevirus']</td>\n",
       "    </tr>\n",
       "    <tr>\n",
       "      <th>2</th>\n",
       "      <td>2022-05-28 14:07:28+00:00</td>\n",
       "      <td>1530551333899616256</td>\n",
       "      <td>@elonmusk i think twitter bird is now free. Bu...</td>\n",
       "      <td>_nishantkumar00</td>\n",
       "      <td>NaN</td>\n",
       "      <td>1</td>\n",
       "      <td>1</td>\n",
       "      <td>NaN</td>\n",
       "      <td>en</td>\n",
       "      <td>['Chinesevirus']</td>\n",
       "    </tr>\n",
       "    <tr>\n",
       "      <th>3</th>\n",
       "      <td>2022-05-28 13:57:55+00:00</td>\n",
       "      <td>1530548928294305792</td>\n",
       "      <td>#lmao #chinesevirus #monkeypox #wef #KlausSchw...</td>\n",
       "      <td>mechatrollnics</td>\n",
       "      <td>NaN</td>\n",
       "      <td>0</td>\n",
       "      <td>0</td>\n",
       "      <td>NaN</td>\n",
       "      <td>und</td>\n",
       "      <td>['lmao', 'chinesevirus', 'monkeypox', 'wef', '...</td>\n",
       "    </tr>\n",
       "    <tr>\n",
       "      <th>4</th>\n",
       "      <td>2022-05-28 10:07:40+00:00</td>\n",
       "      <td>1530490986001969152</td>\n",
       "      <td>@joydeepg9 @Deekay01119442 @TNSubbaRao1 There ...</td>\n",
       "      <td>Buntea</td>\n",
       "      <td>बस यहीं..</td>\n",
       "      <td>0</td>\n",
       "      <td>2</td>\n",
       "      <td>NaN</td>\n",
       "      <td>en</td>\n",
       "      <td>['ChineseVirus', 'Bollywoodias']</td>\n",
       "    </tr>\n",
       "  </tbody>\n",
       "</table>\n",
       "</div>"
      ],
      "text/plain": [
       "                    Datetime             Tweet Id  \\\n",
       "0  2022-05-28 21:21:47+00:00  1530660629899579393   \n",
       "1  2022-05-28 19:45:20+00:00  1530636359492423680   \n",
       "2  2022-05-28 14:07:28+00:00  1530551333899616256   \n",
       "3  2022-05-28 13:57:55+00:00  1530548928294305792   \n",
       "4  2022-05-28 10:07:40+00:00  1530490986001969152   \n",
       "\n",
       "                                                Text         Username  \\\n",
       "0  Già, il #chinesevirus !!!\\nArticolo molto inte...      FlavioPozza   \n",
       "1  VACUNAS DEL #chinesevirus MATAN MÁS! https://t...          JotaMTG   \n",
       "2  @elonmusk i think twitter bird is now free. Bu...  _nishantkumar00   \n",
       "3  #lmao #chinesevirus #monkeypox #wef #KlausSchw...   mechatrollnics   \n",
       "4  @joydeepg9 @Deekay01119442 @TNSubbaRao1 There ...           Buntea   \n",
       "\n",
       "                 Location  Retweet  Like Place Lang  \\\n",
       "0                     NaN        0     0   NaN   it   \n",
       "1  Blumenau - SC - Brazil        3     1   NaN   es   \n",
       "2                     NaN        1     1   NaN   en   \n",
       "3                     NaN        0     0   NaN  und   \n",
       "4               बस यहीं..        0     2   NaN   en   \n",
       "\n",
       "                                            Hashtags  \n",
       "0                    ['chinesevirus', 'maisinistra']  \n",
       "1                                   ['chinesevirus']  \n",
       "2                                   ['Chinesevirus']  \n",
       "3  ['lmao', 'chinesevirus', 'monkeypox', 'wef', '...  \n",
       "4                   ['ChineseVirus', 'Bollywoodias']  "
      ]
     },
     "execution_count": 47,
     "metadata": {},
     "output_type": "execute_result"
    }
   ],
   "source": [
    "tweets.head()"
   ]
  },
  {
   "cell_type": "code",
   "execution_count": 48,
   "id": "29eaa319-5ed6-4e88-b79c-27afb0eb6402",
   "metadata": {},
   "outputs": [
    {
     "name": "stdout",
     "output_type": "stream",
     "text": [
      "Rows     :  619820\n",
      "Columns  :  10\n",
      "\n",
      "Unique values :  \n",
      " Datetime    601326\n",
      "Tweet Id    607545\n",
      "Text        591807\n",
      "Username    193630\n",
      "Location     49777\n",
      "Retweet        548\n",
      "Like          1059\n",
      "Place         4986\n",
      "Lang            63\n",
      "Hashtags    332532\n",
      "dtype: int64\n"
     ]
    }
   ],
   "source": [
    "print (\"Rows     : \" ,tweets.shape[0])\n",
    "print (\"Columns  : \" ,tweets.shape[1])\n",
    "print (\"\\nUnique values :  \\n\",tweets.nunique())"
   ]
  },
  {
   "cell_type": "code",
   "execution_count": 49,
   "id": "85e8d3fd-2c53-4870-9c3e-f92f59fbe9bd",
   "metadata": {},
   "outputs": [
    {
     "data": {
      "text/plain": [
       "Datetime         0\n",
       "Tweet Id         0\n",
       "Text             0\n",
       "Username         0\n",
       "Location    155165\n",
       "Retweet          0\n",
       "Like             0\n",
       "Place       599390\n",
       "Lang             0\n",
       "Hashtags       183\n",
       "dtype: int64"
      ]
     },
     "execution_count": 49,
     "metadata": {},
     "output_type": "execute_result"
    }
   ],
   "source": [
    "tweets.isnull().sum()"
   ]
  },
  {
   "cell_type": "markdown",
   "id": "4551154c",
   "metadata": {},
   "source": [
    "#### 2. Understanding the Data"
   ]
  },
  {
   "cell_type": "code",
   "execution_count": 50,
   "id": "3b886d93-0e90-40cd-8ad7-ee1a79703e60",
   "metadata": {},
   "outputs": [
    {
     "name": "stdout",
     "output_type": "stream",
     "text": [
      "en     537387\n",
      "und     46544\n",
      "hi       5575\n",
      "es       4266\n",
      "fr       3071\n",
      "Name: Lang, dtype: int64\n"
     ]
    }
   ],
   "source": [
    "# Getting the count of top 5 languages for tweets\n",
    "language_count = tweets[\"Lang\"].value_counts().nlargest(5)\n",
    "print(language_count)"
   ]
  },
  {
   "cell_type": "markdown",
   "id": "f933833a",
   "metadata": {},
   "source": [
    "#### 2.1) Dropping Columns"
   ]
  },
  {
   "cell_type": "code",
   "execution_count": 51,
   "id": "bfe06011-48cd-4110-9d9a-2d6e8e53d979",
   "metadata": {},
   "outputs": [],
   "source": [
    "#dropping duplicate tweets on Tweet ID\n",
    "df_result=tweets.drop_duplicates([\"Tweet Id\"],keep=False)\n"
   ]
  },
  {
   "cell_type": "code",
   "execution_count": 52,
   "id": "f7963615-df42-4f5e-96d9-622730b89a00",
   "metadata": {},
   "outputs": [],
   "source": [
    "#Dropping duplicate tweet texts\n",
    "df_result=tweets.drop_duplicates([\"Text\"],keep=False)\n"
   ]
  },
  {
   "cell_type": "code",
   "execution_count": 53,
   "id": "b6d577db-ee54-4ae0-a33b-3fb0f40909fd",
   "metadata": {},
   "outputs": [
    {
     "name": "stderr",
     "output_type": "stream",
     "text": [
      "/var/folders/57/tx7rlqy15q167jrtg5rd5p_40000gn/T/ipykernel_4264/2860842350.py:2: SettingWithCopyWarning:\n",
      "\n",
      "\n",
      "A value is trying to be set on a copy of a slice from a DataFrame\n",
      "\n",
      "See the caveats in the documentation: https://pandas.pydata.org/pandas-docs/stable/user_guide/indexing.html#returning-a-view-versus-a-copy\n",
      "\n"
     ]
    },
    {
     "data": {
      "text/html": [
       "<div>\n",
       "<style scoped>\n",
       "    .dataframe tbody tr th:only-of-type {\n",
       "        vertical-align: middle;\n",
       "    }\n",
       "\n",
       "    .dataframe tbody tr th {\n",
       "        vertical-align: top;\n",
       "    }\n",
       "\n",
       "    .dataframe thead th {\n",
       "        text-align: right;\n",
       "    }\n",
       "</style>\n",
       "<table border=\"1\" class=\"dataframe\">\n",
       "  <thead>\n",
       "    <tr style=\"text-align: right;\">\n",
       "      <th></th>\n",
       "      <th>Datetime</th>\n",
       "      <th>Tweet Id</th>\n",
       "      <th>Text</th>\n",
       "      <th>Username</th>\n",
       "      <th>Location</th>\n",
       "      <th>Retweet</th>\n",
       "      <th>Like</th>\n",
       "      <th>Place</th>\n",
       "      <th>Lang</th>\n",
       "      <th>Hashtags</th>\n",
       "    </tr>\n",
       "  </thead>\n",
       "  <tbody>\n",
       "    <tr>\n",
       "      <th>0</th>\n",
       "      <td>2022-05-28 14:07:28+00:00</td>\n",
       "      <td>1530551333899616256</td>\n",
       "      <td>@elonmusk i think twitter bird is now free. Bu...</td>\n",
       "      <td>_nishantkumar00</td>\n",
       "      <td>NaN</td>\n",
       "      <td>1</td>\n",
       "      <td>1</td>\n",
       "      <td>NaN</td>\n",
       "      <td>en</td>\n",
       "      <td>['Chinesevirus']</td>\n",
       "    </tr>\n",
       "    <tr>\n",
       "      <th>1</th>\n",
       "      <td>2022-05-28 10:07:40+00:00</td>\n",
       "      <td>1530490986001969152</td>\n",
       "      <td>@joydeepg9 @Deekay01119442 @TNSubbaRao1 There ...</td>\n",
       "      <td>Buntea</td>\n",
       "      <td>बस यहीं..</td>\n",
       "      <td>0</td>\n",
       "      <td>2</td>\n",
       "      <td>NaN</td>\n",
       "      <td>en</td>\n",
       "      <td>['ChineseVirus', 'Bollywoodias']</td>\n",
       "    </tr>\n",
       "    <tr>\n",
       "      <th>2</th>\n",
       "      <td>2022-05-28 04:16:27+00:00</td>\n",
       "      <td>1530402599618244610</td>\n",
       "      <td>@nytimes Once again the entitled NYT wants to ...</td>\n",
       "      <td>BioweaponCovid</td>\n",
       "      <td>NaN</td>\n",
       "      <td>0</td>\n",
       "      <td>0</td>\n",
       "      <td>NaN</td>\n",
       "      <td>en</td>\n",
       "      <td>['ChineseVirus']</td>\n",
       "    </tr>\n",
       "    <tr>\n",
       "      <th>3</th>\n",
       "      <td>2022-05-27 15:47:59+00:00</td>\n",
       "      <td>1530214238320467969</td>\n",
       "      <td>#NoWonder #China's #WhiteTerror or #BlueTerror...</td>\n",
       "      <td>TibetPeople</td>\n",
       "      <td>NaN</td>\n",
       "      <td>2</td>\n",
       "      <td>6</td>\n",
       "      <td>NaN</td>\n",
       "      <td>en</td>\n",
       "      <td>['NoWonder', 'China', 'WhiteTerror', 'BlueTerr...</td>\n",
       "    </tr>\n",
       "    <tr>\n",
       "      <th>4</th>\n",
       "      <td>2022-05-27 15:31:08+00:00</td>\n",
       "      <td>1530210001649811458</td>\n",
       "      <td>Hey, what a surprise, 1 year later and nada! #...</td>\n",
       "      <td>TheBradRules1</td>\n",
       "      <td>New York</td>\n",
       "      <td>1</td>\n",
       "      <td>0</td>\n",
       "      <td>NaN</td>\n",
       "      <td>en</td>\n",
       "      <td>['JustAFriendlyReminder', 'ChineseVirus', 'Cov...</td>\n",
       "    </tr>\n",
       "    <tr>\n",
       "      <th>...</th>\n",
       "      <td>...</td>\n",
       "      <td>...</td>\n",
       "      <td>...</td>\n",
       "      <td>...</td>\n",
       "      <td>...</td>\n",
       "      <td>...</td>\n",
       "      <td>...</td>\n",
       "      <td>...</td>\n",
       "      <td>...</td>\n",
       "      <td>...</td>\n",
       "    </tr>\n",
       "    <tr>\n",
       "      <th>505101</th>\n",
       "      <td>2017-12-31 09:30:00+00:00</td>\n",
       "      <td>947399429383786496</td>\n",
       "      <td>Father returns from overseas wedding after son...</td>\n",
       "      <td>AsAmNews</td>\n",
       "      <td>San Francisco</td>\n",
       "      <td>0</td>\n",
       "      <td>1</td>\n",
       "      <td>NaN</td>\n",
       "      <td>en</td>\n",
       "      <td>['AAPI']</td>\n",
       "    </tr>\n",
       "    <tr>\n",
       "      <th>505102</th>\n",
       "      <td>2017-12-31 09:00:01+00:00</td>\n",
       "      <td>947391885525516288</td>\n",
       "      <td>Future unclear for White House Commission on #...</td>\n",
       "      <td>AsAmNews</td>\n",
       "      <td>San Francisco</td>\n",
       "      <td>0</td>\n",
       "      <td>1</td>\n",
       "      <td>NaN</td>\n",
       "      <td>en</td>\n",
       "      <td>['Asian', 'AAPI']</td>\n",
       "    </tr>\n",
       "    <tr>\n",
       "      <th>505103</th>\n",
       "      <td>2017-12-31 08:22:32+00:00</td>\n",
       "      <td>947382453009879040</td>\n",
       "      <td>Happy New year to my fav #Aapi on #Twitter @Ar...</td>\n",
       "      <td>imtarar7</td>\n",
       "      <td>Lleida, España</td>\n",
       "      <td>1</td>\n",
       "      <td>0</td>\n",
       "      <td>NaN</td>\n",
       "      <td>en</td>\n",
       "      <td>['Aapi', 'Twitter']</td>\n",
       "    </tr>\n",
       "    <tr>\n",
       "      <th>505104</th>\n",
       "      <td>2017-12-31 06:30:00+00:00</td>\n",
       "      <td>947354130661519361</td>\n",
       "      <td>NY Times called out for misstep in Asian cultu...</td>\n",
       "      <td>AsAmNews</td>\n",
       "      <td>San Francisco</td>\n",
       "      <td>0</td>\n",
       "      <td>1</td>\n",
       "      <td>NaN</td>\n",
       "      <td>en</td>\n",
       "      <td>['AAPI']</td>\n",
       "    </tr>\n",
       "    <tr>\n",
       "      <th>505105</th>\n",
       "      <td>2017-12-31 05:30:00+00:00</td>\n",
       "      <td>947339031620259840</td>\n",
       "      <td>How an #Asian American woman fought for her ci...</td>\n",
       "      <td>AsAmNews</td>\n",
       "      <td>San Francisco</td>\n",
       "      <td>0</td>\n",
       "      <td>1</td>\n",
       "      <td>NaN</td>\n",
       "      <td>en</td>\n",
       "      <td>['Asian', 'AAPI']</td>\n",
       "    </tr>\n",
       "  </tbody>\n",
       "</table>\n",
       "<p>505106 rows × 10 columns</p>\n",
       "</div>"
      ],
      "text/plain": [
       "                         Datetime             Tweet Id  \\\n",
       "0       2022-05-28 14:07:28+00:00  1530551333899616256   \n",
       "1       2022-05-28 10:07:40+00:00  1530490986001969152   \n",
       "2       2022-05-28 04:16:27+00:00  1530402599618244610   \n",
       "3       2022-05-27 15:47:59+00:00  1530214238320467969   \n",
       "4       2022-05-27 15:31:08+00:00  1530210001649811458   \n",
       "...                           ...                  ...   \n",
       "505101  2017-12-31 09:30:00+00:00   947399429383786496   \n",
       "505102  2017-12-31 09:00:01+00:00   947391885525516288   \n",
       "505103  2017-12-31 08:22:32+00:00   947382453009879040   \n",
       "505104  2017-12-31 06:30:00+00:00   947354130661519361   \n",
       "505105  2017-12-31 05:30:00+00:00   947339031620259840   \n",
       "\n",
       "                                                     Text         Username  \\\n",
       "0       @elonmusk i think twitter bird is now free. Bu...  _nishantkumar00   \n",
       "1       @joydeepg9 @Deekay01119442 @TNSubbaRao1 There ...           Buntea   \n",
       "2       @nytimes Once again the entitled NYT wants to ...   BioweaponCovid   \n",
       "3       #NoWonder #China's #WhiteTerror or #BlueTerror...      TibetPeople   \n",
       "4       Hey, what a surprise, 1 year later and nada! #...    TheBradRules1   \n",
       "...                                                   ...              ...   \n",
       "505101  Father returns from overseas wedding after son...         AsAmNews   \n",
       "505102  Future unclear for White House Commission on #...         AsAmNews   \n",
       "505103  Happy New year to my fav #Aapi on #Twitter @Ar...         imtarar7   \n",
       "505104  NY Times called out for misstep in Asian cultu...         AsAmNews   \n",
       "505105  How an #Asian American woman fought for her ci...         AsAmNews   \n",
       "\n",
       "              Location  Retweet  Like Place Lang  \\\n",
       "0                  NaN        1     1   NaN   en   \n",
       "1            बस यहीं..        0     2   NaN   en   \n",
       "2                  NaN        0     0   NaN   en   \n",
       "3                  NaN        2     6   NaN   en   \n",
       "4             New York        1     0   NaN   en   \n",
       "...                ...      ...   ...   ...  ...   \n",
       "505101   San Francisco        0     1   NaN   en   \n",
       "505102   San Francisco        0     1   NaN   en   \n",
       "505103  Lleida, España        1     0   NaN   en   \n",
       "505104   San Francisco        0     1   NaN   en   \n",
       "505105   San Francisco        0     1   NaN   en   \n",
       "\n",
       "                                                 Hashtags  \n",
       "0                                        ['Chinesevirus']  \n",
       "1                        ['ChineseVirus', 'Bollywoodias']  \n",
       "2                                        ['ChineseVirus']  \n",
       "3       ['NoWonder', 'China', 'WhiteTerror', 'BlueTerr...  \n",
       "4       ['JustAFriendlyReminder', 'ChineseVirus', 'Cov...  \n",
       "...                                                   ...  \n",
       "505101                                           ['AAPI']  \n",
       "505102                                  ['Asian', 'AAPI']  \n",
       "505103                                ['Aapi', 'Twitter']  \n",
       "505104                                           ['AAPI']  \n",
       "505105                                  ['Asian', 'AAPI']  \n",
       "\n",
       "[505106 rows x 10 columns]"
      ]
     },
     "execution_count": 53,
     "metadata": {},
     "output_type": "execute_result"
    }
   ],
   "source": [
    "#Removing all languages except english\n",
    "df_result.drop(df_result[df_result['Lang'] !='en'].index, inplace = True)\n",
    "df_result.reset_index(drop=True)"
   ]
  },
  {
   "cell_type": "code",
   "execution_count": 54,
   "id": "4ea01adc-7649-4f59-a11f-37f4d2cadc37",
   "metadata": {},
   "outputs": [
    {
     "data": {
      "text/html": [
       "<div>\n",
       "<style scoped>\n",
       "    .dataframe tbody tr th:only-of-type {\n",
       "        vertical-align: middle;\n",
       "    }\n",
       "\n",
       "    .dataframe tbody tr th {\n",
       "        vertical-align: top;\n",
       "    }\n",
       "\n",
       "    .dataframe thead th {\n",
       "        text-align: right;\n",
       "    }\n",
       "</style>\n",
       "<table border=\"1\" class=\"dataframe\">\n",
       "  <thead>\n",
       "    <tr style=\"text-align: right;\">\n",
       "      <th></th>\n",
       "      <th>Datetime</th>\n",
       "      <th>Tweet Id</th>\n",
       "      <th>Text</th>\n",
       "      <th>Location</th>\n",
       "      <th>Retweet</th>\n",
       "      <th>Like</th>\n",
       "      <th>Place</th>\n",
       "      <th>Hashtags</th>\n",
       "    </tr>\n",
       "  </thead>\n",
       "  <tbody>\n",
       "    <tr>\n",
       "      <th>0</th>\n",
       "      <td>2022-05-28 14:07:28+00:00</td>\n",
       "      <td>1530551333899616256</td>\n",
       "      <td>@elonmusk i think twitter bird is now free. Bu...</td>\n",
       "      <td>NaN</td>\n",
       "      <td>1</td>\n",
       "      <td>1</td>\n",
       "      <td>NaN</td>\n",
       "      <td>['Chinesevirus']</td>\n",
       "    </tr>\n",
       "    <tr>\n",
       "      <th>1</th>\n",
       "      <td>2022-05-28 10:07:40+00:00</td>\n",
       "      <td>1530490986001969152</td>\n",
       "      <td>@joydeepg9 @Deekay01119442 @TNSubbaRao1 There ...</td>\n",
       "      <td>बस यहीं..</td>\n",
       "      <td>0</td>\n",
       "      <td>2</td>\n",
       "      <td>NaN</td>\n",
       "      <td>['ChineseVirus', 'Bollywoodias']</td>\n",
       "    </tr>\n",
       "    <tr>\n",
       "      <th>2</th>\n",
       "      <td>2022-05-28 04:16:27+00:00</td>\n",
       "      <td>1530402599618244610</td>\n",
       "      <td>@nytimes Once again the entitled NYT wants to ...</td>\n",
       "      <td>NaN</td>\n",
       "      <td>0</td>\n",
       "      <td>0</td>\n",
       "      <td>NaN</td>\n",
       "      <td>['ChineseVirus']</td>\n",
       "    </tr>\n",
       "    <tr>\n",
       "      <th>3</th>\n",
       "      <td>2022-05-27 15:47:59+00:00</td>\n",
       "      <td>1530214238320467969</td>\n",
       "      <td>#NoWonder #China's #WhiteTerror or #BlueTerror...</td>\n",
       "      <td>NaN</td>\n",
       "      <td>2</td>\n",
       "      <td>6</td>\n",
       "      <td>NaN</td>\n",
       "      <td>['NoWonder', 'China', 'WhiteTerror', 'BlueTerr...</td>\n",
       "    </tr>\n",
       "    <tr>\n",
       "      <th>4</th>\n",
       "      <td>2022-05-27 15:31:08+00:00</td>\n",
       "      <td>1530210001649811458</td>\n",
       "      <td>Hey, what a surprise, 1 year later and nada! #...</td>\n",
       "      <td>New York</td>\n",
       "      <td>1</td>\n",
       "      <td>0</td>\n",
       "      <td>NaN</td>\n",
       "      <td>['JustAFriendlyReminder', 'ChineseVirus', 'Cov...</td>\n",
       "    </tr>\n",
       "    <tr>\n",
       "      <th>...</th>\n",
       "      <td>...</td>\n",
       "      <td>...</td>\n",
       "      <td>...</td>\n",
       "      <td>...</td>\n",
       "      <td>...</td>\n",
       "      <td>...</td>\n",
       "      <td>...</td>\n",
       "      <td>...</td>\n",
       "    </tr>\n",
       "    <tr>\n",
       "      <th>505101</th>\n",
       "      <td>2017-12-31 09:30:00+00:00</td>\n",
       "      <td>947399429383786496</td>\n",
       "      <td>Father returns from overseas wedding after son...</td>\n",
       "      <td>San Francisco</td>\n",
       "      <td>0</td>\n",
       "      <td>1</td>\n",
       "      <td>NaN</td>\n",
       "      <td>['AAPI']</td>\n",
       "    </tr>\n",
       "    <tr>\n",
       "      <th>505102</th>\n",
       "      <td>2017-12-31 09:00:01+00:00</td>\n",
       "      <td>947391885525516288</td>\n",
       "      <td>Future unclear for White House Commission on #...</td>\n",
       "      <td>San Francisco</td>\n",
       "      <td>0</td>\n",
       "      <td>1</td>\n",
       "      <td>NaN</td>\n",
       "      <td>['Asian', 'AAPI']</td>\n",
       "    </tr>\n",
       "    <tr>\n",
       "      <th>505103</th>\n",
       "      <td>2017-12-31 08:22:32+00:00</td>\n",
       "      <td>947382453009879040</td>\n",
       "      <td>Happy New year to my fav #Aapi on #Twitter @Ar...</td>\n",
       "      <td>Lleida, España</td>\n",
       "      <td>1</td>\n",
       "      <td>0</td>\n",
       "      <td>NaN</td>\n",
       "      <td>['Aapi', 'Twitter']</td>\n",
       "    </tr>\n",
       "    <tr>\n",
       "      <th>505104</th>\n",
       "      <td>2017-12-31 06:30:00+00:00</td>\n",
       "      <td>947354130661519361</td>\n",
       "      <td>NY Times called out for misstep in Asian cultu...</td>\n",
       "      <td>San Francisco</td>\n",
       "      <td>0</td>\n",
       "      <td>1</td>\n",
       "      <td>NaN</td>\n",
       "      <td>['AAPI']</td>\n",
       "    </tr>\n",
       "    <tr>\n",
       "      <th>505105</th>\n",
       "      <td>2017-12-31 05:30:00+00:00</td>\n",
       "      <td>947339031620259840</td>\n",
       "      <td>How an #Asian American woman fought for her ci...</td>\n",
       "      <td>San Francisco</td>\n",
       "      <td>0</td>\n",
       "      <td>1</td>\n",
       "      <td>NaN</td>\n",
       "      <td>['Asian', 'AAPI']</td>\n",
       "    </tr>\n",
       "  </tbody>\n",
       "</table>\n",
       "<p>505106 rows × 8 columns</p>\n",
       "</div>"
      ],
      "text/plain": [
       "                         Datetime             Tweet Id  \\\n",
       "0       2022-05-28 14:07:28+00:00  1530551333899616256   \n",
       "1       2022-05-28 10:07:40+00:00  1530490986001969152   \n",
       "2       2022-05-28 04:16:27+00:00  1530402599618244610   \n",
       "3       2022-05-27 15:47:59+00:00  1530214238320467969   \n",
       "4       2022-05-27 15:31:08+00:00  1530210001649811458   \n",
       "...                           ...                  ...   \n",
       "505101  2017-12-31 09:30:00+00:00   947399429383786496   \n",
       "505102  2017-12-31 09:00:01+00:00   947391885525516288   \n",
       "505103  2017-12-31 08:22:32+00:00   947382453009879040   \n",
       "505104  2017-12-31 06:30:00+00:00   947354130661519361   \n",
       "505105  2017-12-31 05:30:00+00:00   947339031620259840   \n",
       "\n",
       "                                                     Text        Location  \\\n",
       "0       @elonmusk i think twitter bird is now free. Bu...             NaN   \n",
       "1       @joydeepg9 @Deekay01119442 @TNSubbaRao1 There ...       बस यहीं..   \n",
       "2       @nytimes Once again the entitled NYT wants to ...             NaN   \n",
       "3       #NoWonder #China's #WhiteTerror or #BlueTerror...             NaN   \n",
       "4       Hey, what a surprise, 1 year later and nada! #...        New York   \n",
       "...                                                   ...             ...   \n",
       "505101  Father returns from overseas wedding after son...   San Francisco   \n",
       "505102  Future unclear for White House Commission on #...   San Francisco   \n",
       "505103  Happy New year to my fav #Aapi on #Twitter @Ar...  Lleida, España   \n",
       "505104  NY Times called out for misstep in Asian cultu...   San Francisco   \n",
       "505105  How an #Asian American woman fought for her ci...   San Francisco   \n",
       "\n",
       "        Retweet  Like Place                                           Hashtags  \n",
       "0             1     1   NaN                                   ['Chinesevirus']  \n",
       "1             0     2   NaN                   ['ChineseVirus', 'Bollywoodias']  \n",
       "2             0     0   NaN                                   ['ChineseVirus']  \n",
       "3             2     6   NaN  ['NoWonder', 'China', 'WhiteTerror', 'BlueTerr...  \n",
       "4             1     0   NaN  ['JustAFriendlyReminder', 'ChineseVirus', 'Cov...  \n",
       "...         ...   ...   ...                                                ...  \n",
       "505101        0     1   NaN                                           ['AAPI']  \n",
       "505102        0     1   NaN                                  ['Asian', 'AAPI']  \n",
       "505103        1     0   NaN                                ['Aapi', 'Twitter']  \n",
       "505104        0     1   NaN                                           ['AAPI']  \n",
       "505105        0     1   NaN                                  ['Asian', 'AAPI']  \n",
       "\n",
       "[505106 rows x 8 columns]"
      ]
     },
     "execution_count": 54,
     "metadata": {},
     "output_type": "execute_result"
    }
   ],
   "source": [
    "#dropping user name and language \n",
    "df_result=df_result.drop(['Username','Lang'], axis=1)\n",
    "df_result.reset_index(drop=True)"
   ]
  },
  {
   "cell_type": "markdown",
   "id": "955ccb68",
   "metadata": {},
   "source": [
    "#### 2.2) Formatting Date/Time Columns for further analysis"
   ]
  },
  {
   "cell_type": "code",
   "execution_count": 55,
   "id": "38dbfe7b-cca3-42b7-8df1-bc5388ef49c7",
   "metadata": {},
   "outputs": [],
   "source": [
    "\n",
    "df_result['Datetime'] = df_result['Datetime'].astype('datetime64')\n",
    "df_result=df_result.reset_index(drop=True)"
   ]
  },
  {
   "cell_type": "markdown",
   "id": "f854d205",
   "metadata": {},
   "source": [
    "#### 3. Hashtag Analysis - Textual"
   ]
  },
  {
   "cell_type": "markdown",
   "id": "a6e1cd30",
   "metadata": {},
   "source": [
    "3.1) Basic Textual Analysis and dropping unwanted column"
   ]
  },
  {
   "cell_type": "code",
   "execution_count": 56,
   "id": "c9fbb2c6-5786-4d42-ba02-af62204a2193",
   "metadata": {},
   "outputs": [],
   "source": [
    "# Removing unwnated data in Tweets columns and converting every text to lower case\n",
    "df_result['new_Hashtags'] = [re.sub(r'[^\\w\\s]','', str(df_result['Hashtags'][i])) for i in range (0, len(df_result))]\n"
   ]
  },
  {
   "cell_type": "code",
   "execution_count": 57,
   "id": "77283cc1-63b7-4a60-94a4-df6b88b4ef7c",
   "metadata": {},
   "outputs": [
    {
     "data": {
      "text/html": [
       "<div>\n",
       "<style scoped>\n",
       "    .dataframe tbody tr th:only-of-type {\n",
       "        vertical-align: middle;\n",
       "    }\n",
       "\n",
       "    .dataframe tbody tr th {\n",
       "        vertical-align: top;\n",
       "    }\n",
       "\n",
       "    .dataframe thead th {\n",
       "        text-align: right;\n",
       "    }\n",
       "</style>\n",
       "<table border=\"1\" class=\"dataframe\">\n",
       "  <thead>\n",
       "    <tr style=\"text-align: right;\">\n",
       "      <th></th>\n",
       "      <th>Datetime</th>\n",
       "      <th>Tweet Id</th>\n",
       "      <th>Text</th>\n",
       "      <th>Location</th>\n",
       "      <th>Retweet</th>\n",
       "      <th>Like</th>\n",
       "      <th>Place</th>\n",
       "      <th>Hashtags</th>\n",
       "      <th>new_Hashtags</th>\n",
       "    </tr>\n",
       "  </thead>\n",
       "  <tbody>\n",
       "    <tr>\n",
       "      <th>0</th>\n",
       "      <td>2022-05-28 14:07:28</td>\n",
       "      <td>1530551333899616256</td>\n",
       "      <td>@elonmusk i think twitter bird is now free. Bu...</td>\n",
       "      <td>NaN</td>\n",
       "      <td>1</td>\n",
       "      <td>1</td>\n",
       "      <td>NaN</td>\n",
       "      <td>['Chinesevirus']</td>\n",
       "      <td>chinesevirus</td>\n",
       "    </tr>\n",
       "    <tr>\n",
       "      <th>1</th>\n",
       "      <td>2022-05-28 10:07:40</td>\n",
       "      <td>1530490986001969152</td>\n",
       "      <td>@joydeepg9 @Deekay01119442 @TNSubbaRao1 There ...</td>\n",
       "      <td>बस यहीं..</td>\n",
       "      <td>0</td>\n",
       "      <td>2</td>\n",
       "      <td>NaN</td>\n",
       "      <td>['ChineseVirus', 'Bollywoodias']</td>\n",
       "      <td>chinesevirus bollywoodias</td>\n",
       "    </tr>\n",
       "    <tr>\n",
       "      <th>2</th>\n",
       "      <td>2022-05-28 04:16:27</td>\n",
       "      <td>1530402599618244610</td>\n",
       "      <td>@nytimes Once again the entitled NYT wants to ...</td>\n",
       "      <td>NaN</td>\n",
       "      <td>0</td>\n",
       "      <td>0</td>\n",
       "      <td>NaN</td>\n",
       "      <td>['ChineseVirus']</td>\n",
       "      <td>chinesevirus</td>\n",
       "    </tr>\n",
       "    <tr>\n",
       "      <th>3</th>\n",
       "      <td>2022-05-27 15:47:59</td>\n",
       "      <td>1530214238320467969</td>\n",
       "      <td>#NoWonder #China's #WhiteTerror or #BlueTerror...</td>\n",
       "      <td>NaN</td>\n",
       "      <td>2</td>\n",
       "      <td>6</td>\n",
       "      <td>NaN</td>\n",
       "      <td>['NoWonder', 'China', 'WhiteTerror', 'BlueTerr...</td>\n",
       "      <td>nowonder china whiteterror blueterror ccp free...</td>\n",
       "    </tr>\n",
       "    <tr>\n",
       "      <th>4</th>\n",
       "      <td>2022-05-27 15:31:08</td>\n",
       "      <td>1530210001649811458</td>\n",
       "      <td>Hey, what a surprise, 1 year later and nada! #...</td>\n",
       "      <td>New York</td>\n",
       "      <td>1</td>\n",
       "      <td>0</td>\n",
       "      <td>NaN</td>\n",
       "      <td>['JustAFriendlyReminder', 'ChineseVirus', 'Cov...</td>\n",
       "      <td>justafriendlyreminder chinesevirus coverup</td>\n",
       "    </tr>\n",
       "    <tr>\n",
       "      <th>...</th>\n",
       "      <td>...</td>\n",
       "      <td>...</td>\n",
       "      <td>...</td>\n",
       "      <td>...</td>\n",
       "      <td>...</td>\n",
       "      <td>...</td>\n",
       "      <td>...</td>\n",
       "      <td>...</td>\n",
       "      <td>...</td>\n",
       "    </tr>\n",
       "    <tr>\n",
       "      <th>505101</th>\n",
       "      <td>2017-12-31 09:30:00</td>\n",
       "      <td>947399429383786496</td>\n",
       "      <td>Father returns from overseas wedding after son...</td>\n",
       "      <td>San Francisco</td>\n",
       "      <td>0</td>\n",
       "      <td>1</td>\n",
       "      <td>NaN</td>\n",
       "      <td>['AAPI']</td>\n",
       "      <td>aapi</td>\n",
       "    </tr>\n",
       "    <tr>\n",
       "      <th>505102</th>\n",
       "      <td>2017-12-31 09:00:01</td>\n",
       "      <td>947391885525516288</td>\n",
       "      <td>Future unclear for White House Commission on #...</td>\n",
       "      <td>San Francisco</td>\n",
       "      <td>0</td>\n",
       "      <td>1</td>\n",
       "      <td>NaN</td>\n",
       "      <td>['Asian', 'AAPI']</td>\n",
       "      <td>asian aapi</td>\n",
       "    </tr>\n",
       "    <tr>\n",
       "      <th>505103</th>\n",
       "      <td>2017-12-31 08:22:32</td>\n",
       "      <td>947382453009879040</td>\n",
       "      <td>Happy New year to my fav #Aapi on #Twitter @Ar...</td>\n",
       "      <td>Lleida, España</td>\n",
       "      <td>1</td>\n",
       "      <td>0</td>\n",
       "      <td>NaN</td>\n",
       "      <td>['Aapi', 'Twitter']</td>\n",
       "      <td>aapi twitter</td>\n",
       "    </tr>\n",
       "    <tr>\n",
       "      <th>505104</th>\n",
       "      <td>2017-12-31 06:30:00</td>\n",
       "      <td>947354130661519361</td>\n",
       "      <td>NY Times called out for misstep in Asian cultu...</td>\n",
       "      <td>San Francisco</td>\n",
       "      <td>0</td>\n",
       "      <td>1</td>\n",
       "      <td>NaN</td>\n",
       "      <td>['AAPI']</td>\n",
       "      <td>aapi</td>\n",
       "    </tr>\n",
       "    <tr>\n",
       "      <th>505105</th>\n",
       "      <td>2017-12-31 05:30:00</td>\n",
       "      <td>947339031620259840</td>\n",
       "      <td>How an #Asian American woman fought for her ci...</td>\n",
       "      <td>San Francisco</td>\n",
       "      <td>0</td>\n",
       "      <td>1</td>\n",
       "      <td>NaN</td>\n",
       "      <td>['Asian', 'AAPI']</td>\n",
       "      <td>asian aapi</td>\n",
       "    </tr>\n",
       "  </tbody>\n",
       "</table>\n",
       "<p>505106 rows × 9 columns</p>\n",
       "</div>"
      ],
      "text/plain": [
       "                  Datetime             Tweet Id  \\\n",
       "0      2022-05-28 14:07:28  1530551333899616256   \n",
       "1      2022-05-28 10:07:40  1530490986001969152   \n",
       "2      2022-05-28 04:16:27  1530402599618244610   \n",
       "3      2022-05-27 15:47:59  1530214238320467969   \n",
       "4      2022-05-27 15:31:08  1530210001649811458   \n",
       "...                    ...                  ...   \n",
       "505101 2017-12-31 09:30:00   947399429383786496   \n",
       "505102 2017-12-31 09:00:01   947391885525516288   \n",
       "505103 2017-12-31 08:22:32   947382453009879040   \n",
       "505104 2017-12-31 06:30:00   947354130661519361   \n",
       "505105 2017-12-31 05:30:00   947339031620259840   \n",
       "\n",
       "                                                     Text        Location  \\\n",
       "0       @elonmusk i think twitter bird is now free. Bu...             NaN   \n",
       "1       @joydeepg9 @Deekay01119442 @TNSubbaRao1 There ...       बस यहीं..   \n",
       "2       @nytimes Once again the entitled NYT wants to ...             NaN   \n",
       "3       #NoWonder #China's #WhiteTerror or #BlueTerror...             NaN   \n",
       "4       Hey, what a surprise, 1 year later and nada! #...        New York   \n",
       "...                                                   ...             ...   \n",
       "505101  Father returns from overseas wedding after son...   San Francisco   \n",
       "505102  Future unclear for White House Commission on #...   San Francisco   \n",
       "505103  Happy New year to my fav #Aapi on #Twitter @Ar...  Lleida, España   \n",
       "505104  NY Times called out for misstep in Asian cultu...   San Francisco   \n",
       "505105  How an #Asian American woman fought for her ci...   San Francisco   \n",
       "\n",
       "        Retweet  Like Place  \\\n",
       "0             1     1   NaN   \n",
       "1             0     2   NaN   \n",
       "2             0     0   NaN   \n",
       "3             2     6   NaN   \n",
       "4             1     0   NaN   \n",
       "...         ...   ...   ...   \n",
       "505101        0     1   NaN   \n",
       "505102        0     1   NaN   \n",
       "505103        1     0   NaN   \n",
       "505104        0     1   NaN   \n",
       "505105        0     1   NaN   \n",
       "\n",
       "                                                 Hashtags  \\\n",
       "0                                        ['Chinesevirus']   \n",
       "1                        ['ChineseVirus', 'Bollywoodias']   \n",
       "2                                        ['ChineseVirus']   \n",
       "3       ['NoWonder', 'China', 'WhiteTerror', 'BlueTerr...   \n",
       "4       ['JustAFriendlyReminder', 'ChineseVirus', 'Cov...   \n",
       "...                                                   ...   \n",
       "505101                                           ['AAPI']   \n",
       "505102                                  ['Asian', 'AAPI']   \n",
       "505103                                ['Aapi', 'Twitter']   \n",
       "505104                                           ['AAPI']   \n",
       "505105                                  ['Asian', 'AAPI']   \n",
       "\n",
       "                                             new_Hashtags  \n",
       "0                                            chinesevirus  \n",
       "1                               chinesevirus bollywoodias  \n",
       "2                                            chinesevirus  \n",
       "3       nowonder china whiteterror blueterror ccp free...  \n",
       "4              justafriendlyreminder chinesevirus coverup  \n",
       "...                                                   ...  \n",
       "505101                                               aapi  \n",
       "505102                                         asian aapi  \n",
       "505103                                       aapi twitter  \n",
       "505104                                               aapi  \n",
       "505105                                         asian aapi  \n",
       "\n",
       "[505106 rows x 9 columns]"
      ]
     },
     "execution_count": 57,
     "metadata": {},
     "output_type": "execute_result"
    }
   ],
   "source": [
    "df_result['new_Hashtags']=[df_result['new_Hashtags'][i].lower() for i in range (0, len(df_result))]\n",
    "df_result['new_Hashtags']\n",
    "df_result"
   ]
  },
  {
   "cell_type": "code",
   "execution_count": 58,
   "id": "91f5c5e3-3227-4516-9d57-131007324ed1",
   "metadata": {},
   "outputs": [
    {
     "data": {
      "image/png": "[encoded data removed]",
      "text/plain": [
       "<Figure size 720x360 with 1 Axes>"
      ]
     },
     "metadata": {},
     "output_type": "display_data"
    }
   ],
   "source": [
    "\n",
    "plt.figure(figsize=(10, 5))\n",
    "sns.histplot([len(s) for s in df_result.new_Hashtags], bins=100)\n",
    "plt.title('Hashtags Length')\n",
    "plt.show()"
   ]
  },
  {
   "cell_type": "markdown",
   "id": "081a2aa8",
   "metadata": {},
   "source": [
    "### Getting Top 5 Hashtags!"
   ]
  },
  {
   "cell_type": "code",
   "execution_count": 59,
   "id": "1f9feca6-7d28-4427-9425-f9a2f5fd67e8",
   "metadata": {},
   "outputs": [
    {
     "data": {
      "text/plain": [
       "Index(['chinesevirus', 'racism', 'aapi', 'wuhanvirus', 'immigrant'], dtype='object')"
      ]
     },
     "execution_count": 59,
     "metadata": {},
     "output_type": "execute_result"
    }
   ],
   "source": [
    "hashtags=df_result.new_Hashtags.value_counts().iloc[:5].index\n",
    "hashtags"
   ]
  },
  {
   "cell_type": "code",
   "execution_count": 60,
   "id": "b73dfd34-3313-4f59-8db8-bb854981f91f",
   "metadata": {},
   "outputs": [],
   "source": [
    "hashtags=df_result.new_Hashtags.value_counts().iloc[:5].index\n",
    "hashtags=hashtags.tolist()"
   ]
  },
  {
   "cell_type": "markdown",
   "id": "ca6b6a9c",
   "metadata": {},
   "source": [
    "### Plot of Top 5 Hashtags"
   ]
  },
  {
   "cell_type": "code",
   "execution_count": 61,
   "id": "381d4fb1-dbf1-40a0-8e14-e668c3c41bbd",
   "metadata": {},
   "outputs": [
    {
     "data": {
      "image/png": "[encoded data removed]",
      "text/plain": [
       "<Figure size 432x288 with 1 Axes>"
      ]
     },
     "metadata": {},
     "output_type": "display_data"
    }
   ],
   "source": [
    "ax = sns.countplot(x=\"new_Hashtags\", data=df_result,order=hashtags)\n",
    "\n",
    "plt.show()"
   ]
  },
  {
   "cell_type": "markdown",
   "id": "617d1bb0",
   "metadata": {},
   "source": [
    "#### 3.2) Tweets Analysis - Timeline"
   ]
  },
  {
   "cell_type": "markdown",
   "id": "e7e9746a-74f4-467f-9f2a-f71b89289aea",
   "metadata": {},
   "source": [
    "## Yearly Tweets"
   ]
  },
  {
   "cell_type": "code",
   "execution_count": 62,
   "id": "b44dce47-b98d-42c9-a82c-5c430f8293f4",
   "metadata": {},
   "outputs": [],
   "source": [
    "df_result_y = df_result.set_index('Datetime')['Tweet Id'].resample('Y').nunique()"
   ]
  },
  {
   "cell_type": "code",
   "execution_count": 63,
   "id": "99c09153-ab32-4b0a-b958-d2dd50364b03",
   "metadata": {},
   "outputs": [
    {
     "data": {
      "image/png": "[encoded data removed]",
      "text/plain": [
       "<Figure size 720x504 with 1 Axes>"
      ]
     },
     "metadata": {},
     "output_type": "display_data"
    }
   ],
   "source": [
    "ax = pd.DataFrame(df_result_y.values).plot(\n",
    "    grid=True,\n",
    "    figsize=(10,7),\n",
    "    legend=False\n",
    ")\n",
    "\n",
    "ax.set_xlabel('date')\n",
    "ax.set_ylabel('number of tweets')\n",
    "ax.set_title('Total Number of Tweets Over Time')\n",
    "\n",
    "plt.xticks(\n",
    "    range(len(df_result_y.index)), \n",
    "    [x.strftime('%Y') for x in df_result_y.index], \n",
    "    rotation=45\n",
    ")\n",
    "\n",
    "plt.show()"
   ]
  },
  {
   "cell_type": "markdown",
   "id": "db3c5423-a8a4-4d2b-9025-5842fa316c08",
   "metadata": {},
   "source": [
    "## Tweets for Top 5 hashtags yearly"
   ]
  },
  {
   "cell_type": "code",
   "execution_count": 64,
   "id": "bbd5e4f9-e27d-41ad-b172-cd8a9b3190fe",
   "metadata": {},
   "outputs": [],
   "source": [
    "temp=df_result[df_result['new_Hashtags'].isin(hashtags)]\n"
   ]
  },
  {
   "cell_type": "code",
   "execution_count": 65,
   "id": "73332a91",
   "metadata": {},
   "outputs": [
    {
     "name": "stdout",
     "output_type": "stream",
     "text": [
      "There are 84534 instances of tweets in which No Hashtags were used\n"
     ]
    },
    {
     "name": "stderr",
     "output_type": "stream",
     "text": [
      "/Users/nikhiljoshi/miniforge3/envs/mlp/lib/python3.8/site-packages/plotly/express/_core.py:1637: FutureWarning:\n",
      "\n",
      "The frame.append method is deprecated and will be removed from pandas in a future version. Use pandas.concat instead.\n",
      "\n"
     ]
    },
    {
     "data": {
      "application/vnd.plotly.v1+json": {
       "config": {
        "plotlyServerURL": "https://plot.ly"
       },
       "data": [
        {
         "branchvalues": "total",
         "domain": {
          "x": [
           0,
           1
          ],
          "y": [
           0,
           1
          ]
         },
         "hovertemplate": "labels=%{label}<br>count=%{value}<br>parent=%{parent}<br>id=%{id}<extra></extra>",
         "ids": [
          "'AAPI'",
          "'AAPIHM'",
          "'AAPIHeritageMonth'",
          "'APAHM'",
          "'BlackLivesMatter'",
          "'CCP'",
          "'CCPVirus'",
          "'COVID19'",
          "'China'",
          "'ChinaLiedPeopleDied'",
          "'ChinaVirus'",
          "'ChineseVirus'",
          "'Immigrant'",
          "'India'",
          "'Racism'",
          "'StopAsianHate'",
          "'Trump'",
          "'USA'",
          "'Ukraine'",
          "'WhiteSupremacy'",
          "'WuhanVirus'",
          "'aapi'",
          "'chinesevirus'",
          "'coronavirus'",
          "'immigrant'",
          "'immigration'",
          "'racism'",
          "'racist'",
          "'refugee'",
          "'wuhanvirus'"
         ],
         "labels": [
          "'AAPI'",
          "'AAPIHM'",
          "'AAPIHeritageMonth'",
          "'APAHM'",
          "'BlackLivesMatter'",
          "'CCP'",
          "'CCPVirus'",
          "'COVID19'",
          "'China'",
          "'ChinaLiedPeopleDied'",
          "'ChinaVirus'",
          "'ChineseVirus'",
          "'Immigrant'",
          "'India'",
          "'Racism'",
          "'StopAsianHate'",
          "'Trump'",
          "'USA'",
          "'Ukraine'",
          "'WhiteSupremacy'",
          "'WuhanVirus'",
          "'aapi'",
          "'chinesevirus'",
          "'coronavirus'",
          "'immigrant'",
          "'immigration'",
          "'racism'",
          "'racist'",
          "'refugee'",
          "'wuhanvirus'"
         ],
         "name": "",
         "parents": [
          "",
          "",
          "",
          "",
          "",
          "",
          "",
          "",
          "",
          "",
          "",
          "",
          "",
          "",
          "",
          "",
          "",
          "",
          "",
          "",
          "",
          "",
          "",
          "",
          "",
          "",
          "",
          "",
          "",
          ""
         ],
         "type": "treemap",
         "values": [
          84534,
          4875,
          7733,
          4254,
          4874,
          6970,
          7553,
          17801,
          14941,
          4405,
          6422,
          59166,
          30183,
          4584,
          46492,
          6854,
          9763,
          5459,
          5120,
          4507,
          56765,
          10684,
          7076,
          6821,
          70581,
          8080,
          127778,
          6687,
          4041,
          7916
         ]
        }
       ],
       "layout": {
        "legend": {
         "tracegroupgap": 0
        },
        "template": {
         "data": {
          "bar": [
           {
            "error_x": {
             "color": "#2a3f5f"
            },
            "error_y": {
             "color": "#2a3f5f"
            },
            "marker": {
             "line": {
              "color": "#E5ECF6",
              "width": 0.5
             },
             "pattern": {
              "fillmode": "overlay",
              "size": 10,
              "solidity": 0.2
             }
            },
            "type": "bar"
           }
          ],
          "barpolar": [
           {
            "marker": {
             "line": {
              "color": "#E5ECF6",
              "width": 0.5
             },
             "pattern": {
              "fillmode": "overlay",
              "size": 10,
              "solidity": 0.2
             }
            },
            "type": "barpolar"
           }
          ],
          "carpet": [
           {
            "aaxis": {
             "endlinecolor": "#2a3f5f",
             "gridcolor": "white",
             "linecolor": "white",
             "minorgridcolor": "white",
             "startlinecolor": "#2a3f5f"
            },
            "baxis": {
             "endlinecolor": "#2a3f5f",
             "gridcolor": "white",
             "linecolor": "white",
             "minorgridcolor": "white",
             "startlinecolor": "#2a3f5f"
            },
            "type": "carpet"
           }
          ],
          "choropleth": [
           {
            "colorbar": {
             "outlinewidth": 0,
             "ticks": ""
            },
            "type": "choropleth"
           }
          ],
          "contour": [
           {
            "colorbar": {
             "outlinewidth": 0,
             "ticks": ""
            },
            "colorscale": [
             [
              0,
              "#0d0887"
             ],
             [
              0.1111111111111111,
              "#46039f"
             ],
             [
              0.2222222222222222,
              "#7201a8"
             ],
             [
              0.3333333333333333,
              "#9c179e"
             ],
             [
              0.4444444444444444,
              "#bd3786"
             ],
             [
              0.5555555555555556,
              "#d8576b"
             ],
             [
              0.6666666666666666,
              "#ed7953"
             ],
             [
              0.7777777777777778,
              "#fb9f3a"
             ],
             [
              0.8888888888888888,
              "#fdca26"
             ],
             [
              1,
              "#f0f921"
             ]
            ],
            "type": "contour"
           }
          ],
          "contourcarpet": [
           {
            "colorbar": {
             "outlinewidth": 0,
             "ticks": ""
            },
            "type": "contourcarpet"
           }
          ],
          "heatmap": [
           {
            "colorbar": {
             "outlinewidth": 0,
             "ticks": ""
            },
            "colorscale": [
             [
              0,
              "#0d0887"
             ],
             [
              0.1111111111111111,
              "#46039f"
             ],
             [
              0.2222222222222222,
              "#7201a8"
             ],
             [
              0.3333333333333333,
              "#9c179e"
             ],
             [
              0.4444444444444444,
              "#bd3786"
             ],
             [
              0.5555555555555556,
              "#d8576b"
             ],
             [
              0.6666666666666666,
              "#ed7953"
             ],
             [
              0.7777777777777778,
              "#fb9f3a"
             ],
             [
              0.8888888888888888,
              "#fdca26"
             ],
             [
              1,
              "#f0f921"
             ]
            ],
            "type": "heatmap"
           }
          ],
          "heatmapgl": [
           {
            "colorbar": {
             "outlinewidth": 0,
             "ticks": ""
            },
            "colorscale": [
             [
              0,
              "#0d0887"
             ],
             [
              0.1111111111111111,
              "#46039f"
             ],
             [
              0.2222222222222222,
              "#7201a8"
             ],
             [
              0.3333333333333333,
              "#9c179e"
             ],
             [
              0.4444444444444444,
              "#bd3786"
             ],
             [
              0.5555555555555556,
              "#d8576b"
             ],
             [
              0.6666666666666666,
              "#ed7953"
             ],
             [
              0.7777777777777778,
              "#fb9f3a"
             ],
             [
              0.8888888888888888,
              "#fdca26"
             ],
             [
              1,
              "#f0f921"
             ]
            ],
            "type": "heatmapgl"
           }
          ],
          "histogram": [
           {
            "marker": {
             "pattern": {
              "fillmode": "overlay",
              "size": 10,
              "solidity": 0.2
             }
            },
            "type": "histogram"
           }
          ],
          "histogram2d": [
           {
            "colorbar": {
             "outlinewidth": 0,
             "ticks": ""
            },
            "colorscale": [
             [
              0,
              "#0d0887"
             ],
             [
              0.1111111111111111,
              "#46039f"
             ],
             [
              0.2222222222222222,
              "#7201a8"
             ],
             [
              0.3333333333333333,
              "#9c179e"
             ],
             [
              0.4444444444444444,
              "#bd3786"
             ],
             [
              0.5555555555555556,
              "#d8576b"
             ],
             [
              0.6666666666666666,
              "#ed7953"
             ],
             [
              0.7777777777777778,
              "#fb9f3a"
             ],
             [
              0.8888888888888888,
              "#fdca26"
             ],
             [
              1,
              "#f0f921"
             ]
            ],
            "type": "histogram2d"
           }
          ],
          "histogram2dcontour": [
           {
            "colorbar": {
             "outlinewidth": 0,
             "ticks": ""
            },
            "colorscale": [
             [
              0,
              "#0d0887"
             ],
             [
              0.1111111111111111,
              "#46039f"
             ],
             [
              0.2222222222222222,
              "#7201a8"
             ],
             [
              0.3333333333333333,
              "#9c179e"
             ],
             [
              0.4444444444444444,
              "#bd3786"
             ],
             [
              0.5555555555555556,
              "#d8576b"
             ],
             [
              0.6666666666666666,
              "#ed7953"
             ],
             [
              0.7777777777777778,
              "#fb9f3a"
             ],
             [
              0.8888888888888888,
              "#fdca26"
             ],
             [
              1,
              "#f0f921"
             ]
            ],
            "type": "histogram2dcontour"
           }
          ],
          "mesh3d": [
           {
            "colorbar": {
             "outlinewidth": 0,
             "ticks": ""
            },
            "type": "mesh3d"
           }
          ],
          "parcoords": [
           {
            "line": {
             "colorbar": {
              "outlinewidth": 0,
              "ticks": ""
             }
            },
            "type": "parcoords"
           }
          ],
          "pie": [
           {
            "automargin": true,
            "type": "pie"
           }
          ],
          "scatter": [
           {
            "marker": {
             "colorbar": {
              "outlinewidth": 0,
              "ticks": ""
             }
            },
            "type": "scatter"
           }
          ],
          "scatter3d": [
           {
            "line": {
             "colorbar": {
              "outlinewidth": 0,
              "ticks": ""
             }
            },
            "marker": {
             "colorbar": {
              "outlinewidth": 0,
              "ticks": ""
             }
            },
            "type": "scatter3d"
           }
          ],
          "scattercarpet": [
           {
            "marker": {
             "colorbar": {
              "outlinewidth": 0,
              "ticks": ""
             }
            },
            "type": "scattercarpet"
           }
          ],
          "scattergeo": [
           {
            "marker": {
             "colorbar": {
              "outlinewidth": 0,
              "ticks": ""
             }
            },
            "type": "scattergeo"
           }
          ],
          "scattergl": [
           {
            "marker": {
             "colorbar": {
              "outlinewidth": 0,
              "ticks": ""
             }
            },
            "type": "scattergl"
           }
          ],
          "scattermapbox": [
           {
            "marker": {
             "colorbar": {
              "outlinewidth": 0,
              "ticks": ""
             }
            },
            "type": "scattermapbox"
           }
          ],
          "scatterpolar": [
           {
            "marker": {
             "colorbar": {
              "outlinewidth": 0,
              "ticks": ""
             }
            },
            "type": "scatterpolar"
           }
          ],
          "scatterpolargl": [
           {
            "marker": {
             "colorbar": {
              "outlinewidth": 0,
              "ticks": ""
             }
            },
            "type": "scatterpolargl"
           }
          ],
          "scatterternary": [
           {
            "marker": {
             "colorbar": {
              "outlinewidth": 0,
              "ticks": ""
             }
            },
            "type": "scatterternary"
           }
          ],
          "surface": [
           {
            "colorbar": {
             "outlinewidth": 0,
             "ticks": ""
            },
            "colorscale": [
             [
              0,
              "#0d0887"
             ],
             [
              0.1111111111111111,
              "#46039f"
             ],
             [
              0.2222222222222222,
              "#7201a8"
             ],
             [
              0.3333333333333333,
              "#9c179e"
             ],
             [
              0.4444444444444444,
              "#bd3786"
             ],
             [
              0.5555555555555556,
              "#d8576b"
             ],
             [
              0.6666666666666666,
              "#ed7953"
             ],
             [
              0.7777777777777778,
              "#fb9f3a"
             ],
             [
              0.8888888888888888,
              "#fdca26"
             ],
             [
              1,
              "#f0f921"
             ]
            ],
            "type": "surface"
           }
          ],
          "table": [
           {
            "cells": {
             "fill": {
              "color": "#EBF0F8"
             },
             "line": {
              "color": "white"
             }
            },
            "header": {
             "fill": {
              "color": "#C8D4E3"
             },
             "line": {
              "color": "white"
             }
            },
            "type": "table"
           }
          ]
         },
         "layout": {
          "annotationdefaults": {
           "arrowcolor": "#2a3f5f",
           "arrowhead": 0,
           "arrowwidth": 1
          },
          "autotypenumbers": "strict",
          "coloraxis": {
           "colorbar": {
            "outlinewidth": 0,
            "ticks": ""
           }
          },
          "colorscale": {
           "diverging": [
            [
             0,
             "#8e0152"
            ],
            [
             0.1,
             "#c51b7d"
            ],
            [
             0.2,
             "#de77ae"
            ],
            [
             0.3,
             "#f1b6da"
            ],
            [
             0.4,
             "#fde0ef"
            ],
            [
             0.5,
             "#f7f7f7"
            ],
            [
             0.6,
             "#e6f5d0"
            ],
            [
             0.7,
             "#b8e186"
            ],
            [
             0.8,
             "#7fbc41"
            ],
            [
             0.9,
             "#4d9221"
            ],
            [
             1,
             "#276419"
            ]
           ],
           "sequential": [
            [
             0,
             "#0d0887"
            ],
            [
             0.1111111111111111,
             "#46039f"
            ],
            [
             0.2222222222222222,
             "#7201a8"
            ],
            [
             0.3333333333333333,
             "#9c179e"
            ],
            [
             0.4444444444444444,
             "#bd3786"
            ],
            [
             0.5555555555555556,
             "#d8576b"
            ],
            [
             0.6666666666666666,
             "#ed7953"
            ],
            [
             0.7777777777777778,
             "#fb9f3a"
            ],
            [
             0.8888888888888888,
             "#fdca26"
            ],
            [
             1,
             "#f0f921"
            ]
           ],
           "sequentialminus": [
            [
             0,
             "#0d0887"
            ],
            [
             0.1111111111111111,
             "#46039f"
            ],
            [
             0.2222222222222222,
             "#7201a8"
            ],
            [
             0.3333333333333333,
             "#9c179e"
            ],
            [
             0.4444444444444444,
             "#bd3786"
            ],
            [
             0.5555555555555556,
             "#d8576b"
            ],
            [
             0.6666666666666666,
             "#ed7953"
            ],
            [
             0.7777777777777778,
             "#fb9f3a"
            ],
            [
             0.8888888888888888,
             "#fdca26"
            ],
            [
             1,
             "#f0f921"
            ]
           ]
          },
          "colorway": [
           "#636efa",
           "#EF553B",
           "#00cc96",
           "#ab63fa",
           "#FFA15A",
           "#19d3f3",
           "#FF6692",
           "#B6E880",
           "#FF97FF",
           "#FECB52"
          ],
          "font": {
           "color": "#2a3f5f"
          },
          "geo": {
           "bgcolor": "white",
           "lakecolor": "white",
           "landcolor": "#E5ECF6",
           "showlakes": true,
           "showland": true,
           "subunitcolor": "white"
          },
          "hoverlabel": {
           "align": "left"
          },
          "hovermode": "closest",
          "mapbox": {
           "style": "light"
          },
          "paper_bgcolor": "white",
          "plot_bgcolor": "#E5ECF6",
          "polar": {
           "angularaxis": {
            "gridcolor": "white",
            "linecolor": "white",
            "ticks": ""
           },
           "bgcolor": "#E5ECF6",
           "radialaxis": {
            "gridcolor": "white",
            "linecolor": "white",
            "ticks": ""
           }
          },
          "scene": {
           "xaxis": {
            "backgroundcolor": "#E5ECF6",
            "gridcolor": "white",
            "gridwidth": 2,
            "linecolor": "white",
            "showbackground": true,
            "ticks": "",
            "zerolinecolor": "white"
           },
           "yaxis": {
            "backgroundcolor": "#E5ECF6",
            "gridcolor": "white",
            "gridwidth": 2,
            "linecolor": "white",
            "showbackground": true,
            "ticks": "",
            "zerolinecolor": "white"
           },
           "zaxis": {
            "backgroundcolor": "#E5ECF6",
            "gridcolor": "white",
            "gridwidth": 2,
            "linecolor": "white",
            "showbackground": true,
            "ticks": "",
            "zerolinecolor": "white"
           }
          },
          "shapedefaults": {
           "line": {
            "color": "#2a3f5f"
           }
          },
          "ternary": {
           "aaxis": {
            "gridcolor": "white",
            "linecolor": "white",
            "ticks": ""
           },
           "baxis": {
            "gridcolor": "white",
            "linecolor": "white",
            "ticks": ""
           },
           "bgcolor": "#E5ECF6",
           "caxis": {
            "gridcolor": "white",
            "linecolor": "white",
            "ticks": ""
           }
          },
          "title": {
           "x": 0.05
          },
          "xaxis": {
           "automargin": true,
           "gridcolor": "white",
           "linecolor": "white",
           "ticks": "",
           "title": {
            "standoff": 15
           },
           "zerolinecolor": "white",
           "zerolinewidth": 2
          },
          "yaxis": {
           "automargin": true,
           "gridcolor": "white",
           "linecolor": "white",
           "ticks": "",
           "title": {
            "standoff": 15
           },
           "zerolinecolor": "white",
           "zerolinewidth": 2
          }
         }
        },
        "title": {
         "text": "30 Most Common Hashtags"
        }
       }
      }
     },
     "metadata": {},
     "output_type": "display_data"
    }
   ],
   "source": [
    "import plotly.express as px\n",
    "df_result['Hashtags']=df_result['Hashtags'].fillna('[]')\n",
    "all_hashtags=[]\n",
    "for i in range(len(df_result['Hashtags'])):\n",
    "    a=df_result['Hashtags'][i].strip('][').split(', ') \n",
    "    for i in a:\n",
    "        all_hashtags.append(i)\n",
    "all_hashtags=['No Hashtag' if x=='' else x for x in all_hashtags]       \n",
    "\n",
    "all_hashtags=pd.Series(np.array(all_hashtags))\n",
    "print('There are {} instances of tweets in which No Hashtags were used'.format(all_hashtags.value_counts()[1]))\n",
    "\n",
    "common_hashtags=all_hashtags.value_counts().drop(labels='No Hashtag')[:30].rename_axis('Common Hashtags').reset_index(name='count')\n",
    "fig = px.treemap(common_hashtags, path=['Common Hashtags'], values='count',title='30 Most Common Hashtags')\n",
    "fig.show()"
   ]
  },
  {
   "cell_type": "code",
   "execution_count": 66,
   "id": "20f27c89-2486-476a-8054-635c65fcb44c",
   "metadata": {},
   "outputs": [
    {
     "name": "stderr",
     "output_type": "stream",
     "text": [
      "/var/folders/57/tx7rlqy15q167jrtg5rd5p_40000gn/T/ipykernel_4264/807483932.py:1: SettingWithCopyWarning:\n",
      "\n",
      "\n",
      "A value is trying to be set on a copy of a slice from a DataFrame.\n",
      "Try using .loc[row_indexer,col_indexer] = value instead\n",
      "\n",
      "See the caveats in the documentation: https://pandas.pydata.org/pandas-docs/stable/user_guide/indexing.html#returning-a-view-versus-a-copy\n",
      "\n"
     ]
    },
    {
     "data": {
      "text/html": [
       "<div>\n",
       "<style scoped>\n",
       "    .dataframe tbody tr th:only-of-type {\n",
       "        vertical-align: middle;\n",
       "    }\n",
       "\n",
       "    .dataframe tbody tr th {\n",
       "        vertical-align: top;\n",
       "    }\n",
       "\n",
       "    .dataframe thead th {\n",
       "        text-align: right;\n",
       "    }\n",
       "</style>\n",
       "<table border=\"1\" class=\"dataframe\">\n",
       "  <thead>\n",
       "    <tr style=\"text-align: right;\">\n",
       "      <th></th>\n",
       "      <th>hashtags</th>\n",
       "      <th>year</th>\n",
       "      <th>count</th>\n",
       "    </tr>\n",
       "  </thead>\n",
       "  <tbody>\n",
       "    <tr>\n",
       "      <th>0</th>\n",
       "      <td>aapi</td>\n",
       "      <td>2017</td>\n",
       "      <td>8</td>\n",
       "    </tr>\n",
       "    <tr>\n",
       "      <th>1</th>\n",
       "      <td>aapi</td>\n",
       "      <td>2018</td>\n",
       "      <td>3783</td>\n",
       "    </tr>\n",
       "    <tr>\n",
       "      <th>2</th>\n",
       "      <td>aapi</td>\n",
       "      <td>2019</td>\n",
       "      <td>2962</td>\n",
       "    </tr>\n",
       "    <tr>\n",
       "      <th>3</th>\n",
       "      <td>aapi</td>\n",
       "      <td>2020</td>\n",
       "      <td>2533</td>\n",
       "    </tr>\n",
       "    <tr>\n",
       "      <th>4</th>\n",
       "      <td>aapi</td>\n",
       "      <td>2021</td>\n",
       "      <td>10187</td>\n",
       "    </tr>\n",
       "    <tr>\n",
       "      <th>5</th>\n",
       "      <td>aapi</td>\n",
       "      <td>2022</td>\n",
       "      <td>3023</td>\n",
       "    </tr>\n",
       "    <tr>\n",
       "      <th>6</th>\n",
       "      <td>chinesevirus</td>\n",
       "      <td>2020</td>\n",
       "      <td>15676</td>\n",
       "    </tr>\n",
       "    <tr>\n",
       "      <th>7</th>\n",
       "      <td>chinesevirus</td>\n",
       "      <td>2021</td>\n",
       "      <td>9824</td>\n",
       "    </tr>\n",
       "    <tr>\n",
       "      <th>8</th>\n",
       "      <td>chinesevirus</td>\n",
       "      <td>2022</td>\n",
       "      <td>667</td>\n",
       "    </tr>\n",
       "    <tr>\n",
       "      <th>9</th>\n",
       "      <td>immigrant</td>\n",
       "      <td>2017</td>\n",
       "      <td>4653</td>\n",
       "    </tr>\n",
       "    <tr>\n",
       "      <th>10</th>\n",
       "      <td>immigrant</td>\n",
       "      <td>2018</td>\n",
       "      <td>3634</td>\n",
       "    </tr>\n",
       "    <tr>\n",
       "      <th>11</th>\n",
       "      <td>immigrant</td>\n",
       "      <td>2019</td>\n",
       "      <td>1781</td>\n",
       "    </tr>\n",
       "    <tr>\n",
       "      <th>12</th>\n",
       "      <td>immigrant</td>\n",
       "      <td>2020</td>\n",
       "      <td>1458</td>\n",
       "    </tr>\n",
       "    <tr>\n",
       "      <th>13</th>\n",
       "      <td>immigrant</td>\n",
       "      <td>2021</td>\n",
       "      <td>994</td>\n",
       "    </tr>\n",
       "    <tr>\n",
       "      <th>14</th>\n",
       "      <td>immigrant</td>\n",
       "      <td>2022</td>\n",
       "      <td>363</td>\n",
       "    </tr>\n",
       "    <tr>\n",
       "      <th>15</th>\n",
       "      <td>racism</td>\n",
       "      <td>2019</td>\n",
       "      <td>12942</td>\n",
       "    </tr>\n",
       "    <tr>\n",
       "      <th>16</th>\n",
       "      <td>racism</td>\n",
       "      <td>2022</td>\n",
       "      <td>13029</td>\n",
       "    </tr>\n",
       "    <tr>\n",
       "      <th>17</th>\n",
       "      <td>wuhanvirus</td>\n",
       "      <td>2020</td>\n",
       "      <td>11669</td>\n",
       "    </tr>\n",
       "    <tr>\n",
       "      <th>18</th>\n",
       "      <td>wuhanvirus</td>\n",
       "      <td>2021</td>\n",
       "      <td>6469</td>\n",
       "    </tr>\n",
       "    <tr>\n",
       "      <th>19</th>\n",
       "      <td>wuhanvirus</td>\n",
       "      <td>2022</td>\n",
       "      <td>884</td>\n",
       "    </tr>\n",
       "  </tbody>\n",
       "</table>\n",
       "</div>"
      ],
      "text/plain": [
       "        hashtags  year  count\n",
       "0           aapi  2017      8\n",
       "1           aapi  2018   3783\n",
       "2           aapi  2019   2962\n",
       "3           aapi  2020   2533\n",
       "4           aapi  2021  10187\n",
       "5           aapi  2022   3023\n",
       "6   chinesevirus  2020  15676\n",
       "7   chinesevirus  2021   9824\n",
       "8   chinesevirus  2022    667\n",
       "9      immigrant  2017   4653\n",
       "10     immigrant  2018   3634\n",
       "11     immigrant  2019   1781\n",
       "12     immigrant  2020   1458\n",
       "13     immigrant  2021    994\n",
       "14     immigrant  2022    363\n",
       "15        racism  2019  12942\n",
       "16        racism  2022  13029\n",
       "17    wuhanvirus  2020  11669\n",
       "18    wuhanvirus  2021   6469\n",
       "19    wuhanvirus  2022    884"
      ]
     },
     "execution_count": 66,
     "metadata": {},
     "output_type": "execute_result"
    }
   ],
   "source": [
    "temp['year']=temp['Datetime'].dt.year\n",
    "temp3=pd.DataFrame(temp.groupby(['new_Hashtags','year']).size()).reset_index()\n",
    "temp3.columns=['hashtags','year','count']\n",
    "temp3"
   ]
  },
  {
   "cell_type": "code",
   "execution_count": 67,
   "id": "5a69f606-f073-48ff-889d-0a9591896f6e",
   "metadata": {},
   "outputs": [
    {
     "data": {
      "image/png": "[encoded data removed]",
      "text/plain": [
       "<Figure size 432x288 with 1 Axes>"
      ]
     },
     "metadata": {},
     "output_type": "display_data"
    }
   ],
   "source": [
    "sns.barplot(x=temp3['hashtags'],y=temp3['count'],hue=temp3['year'])\n",
    "# Show graphic\n",
    "plt.show()"
   ]
  },
  {
   "cell_type": "markdown",
   "id": "dc1448f3-1944-4f95-b170-3fcfac1a8f61",
   "metadata": {},
   "source": [
    "## Month-Year Tweets"
   ]
  },
  {
   "cell_type": "code",
   "execution_count": 68,
   "id": "12733ba8-0d06-4f19-91fc-789b91173ff8",
   "metadata": {},
   "outputs": [],
   "source": [
    "df_result_m = df_result.set_index('Datetime')['Tweet Id'].resample('M').nunique()"
   ]
  },
  {
   "cell_type": "code",
   "execution_count": 69,
   "id": "f685a869-c6b2-42b9-b18f-dd066c2201f4",
   "metadata": {},
   "outputs": [
    {
     "data": {
      "image/png": "[encoded data removed]",
      "text/plain": [
       "<Figure size 1440x720 with 1 Axes>"
      ]
     },
     "metadata": {},
     "output_type": "display_data"
    }
   ],
   "source": [
    "ax = pd.DataFrame(df_result_m.values).plot(\n",
    "    grid=True,\n",
    "    figsize=(20,10),\n",
    "    legend=False\n",
    ")\n",
    "\n",
    "ax.set_xlabel('date')\n",
    "ax.set_ylabel('number of tweets')\n",
    "ax.set_title('Total Number of Tweets Over Time')\n",
    "\n",
    "plt.xticks(\n",
    "    range(len(df_result_m.index)), \n",
    "    [x.strftime('%m.%Y') for x in df_result_m.index], \n",
    "    rotation=45\n",
    ")\n",
    "\n",
    "plt.show()"
   ]
  },
  {
   "cell_type": "markdown",
   "id": "a31a65c7-3d84-4c70-99e3-0857d4049d7f",
   "metadata": {},
   "source": [
    "## Tweet length"
   ]
  },
  {
   "cell_type": "code",
   "execution_count": 70,
   "id": "fdbfec15-10a5-4ee1-af1c-8468f59397e1",
   "metadata": {},
   "outputs": [
    {
     "data": {
      "image/png": "[encoded data removed]",
      "text/plain": [
       "<Figure size 720x360 with 1 Axes>"
      ]
     },
     "metadata": {},
     "output_type": "display_data"
    }
   ],
   "source": [
    "\n",
    "#plot hist of tweet length\n",
    "plt.figure(figsize=(10, 5))\n",
    "sns.histplot([len(s) for s in df_result.Text], bins=100)\n",
    "plt.title('Tweet Length')\n",
    "plt.show()"
   ]
  },
  {
   "cell_type": "markdown",
   "id": "3a050b6b-eba5-4583-a7ef-cc4988d18797",
   "metadata": {},
   "source": [
    "## Tweets by hour of the day"
   ]
  },
  {
   "cell_type": "code",
   "execution_count": 71,
   "id": "1b311145-2bc0-4bf3-b7c4-19880eed3953",
   "metadata": {},
   "outputs": [
    {
     "data": {
      "text/plain": [
       "<AxesSubplot:title={'center':'Tweets by hour of the day'}, xlabel='Datetime', ylabel='number of tweets'>"
      ]
     },
     "execution_count": 71,
     "metadata": {},
     "output_type": "execute_result"
    },
    {
     "data": {
      "image/png": "[encoded data removed]",
      "text/plain": [
       "<Figure size 864x288 with 1 Axes>"
      ]
     },
     "metadata": {},
     "output_type": "display_data"
    }
   ],
   "source": [
    "fig, axs = plt.subplots(figsize=(12, 4))\n",
    "\n",
    "axs.set_xlabel('Hour')\n",
    "axs.set_ylabel('number of tweets')\n",
    "axs.set_title('Tweets by hour of the day')\n",
    "\n",
    "df_result.groupby(df_result[\"Datetime\"].dt.hour)[\"Tweet Id\"].count().plot(\n",
    "    kind='bar', rot=0, ax=axs)\n"
   ]
  },
  {
   "cell_type": "markdown",
   "id": "d5ef87f3",
   "metadata": {},
   "source": [
    "#### 4. Analysis on \"Location\" field"
   ]
  },
  {
   "cell_type": "code",
   "execution_count": 72,
   "id": "82023287-30c4-406a-aa9f-f76d9063f728",
   "metadata": {},
   "outputs": [
    {
     "data": {
      "text/plain": [
       "119842"
      ]
     },
     "execution_count": 72,
     "metadata": {},
     "output_type": "execute_result"
    }
   ],
   "source": [
    "df_result.Location.isna().sum()"
   ]
  },
  {
   "cell_type": "code",
   "execution_count": 73,
   "id": "a9b6c911-777a-4a53-a9b8-1f5307d20e21",
   "metadata": {},
   "outputs": [
    {
     "data": {
      "text/plain": [
       "United States     12884\n",
       "Washington, DC     9098\n",
       "San Francisco      8784\n",
       "India              8730\n",
       "New York, NY       6902\n",
       "Name: Location, dtype: int64"
      ]
     },
     "execution_count": 73,
     "metadata": {},
     "output_type": "execute_result"
    }
   ],
   "source": [
    "temp=df_result['Location'].value_counts()\n",
    "temp.head()"
   ]
  },
  {
   "cell_type": "code",
   "execution_count": 74,
   "id": "776a9763",
   "metadata": {},
   "outputs": [
    {
     "data": {
      "text/html": [
       "<div>\n",
       "<style scoped>\n",
       "    .dataframe tbody tr th:only-of-type {\n",
       "        vertical-align: middle;\n",
       "    }\n",
       "\n",
       "    .dataframe tbody tr th {\n",
       "        vertical-align: top;\n",
       "    }\n",
       "\n",
       "    .dataframe thead th {\n",
       "        text-align: right;\n",
       "    }\n",
       "</style>\n",
       "<table border=\"1\" class=\"dataframe\">\n",
       "  <thead>\n",
       "    <tr style=\"text-align: right;\">\n",
       "      <th></th>\n",
       "      <th>Raw Data</th>\n",
       "      <th>Country Name</th>\n",
       "      <th>City/State</th>\n",
       "      <th>Tweet Count</th>\n",
       "    </tr>\n",
       "  </thead>\n",
       "  <tbody>\n",
       "    <tr>\n",
       "      <th>0</th>\n",
       "      <td>United States</td>\n",
       "      <td>United States</td>\n",
       "      <td>Incorrect Location</td>\n",
       "      <td>11591</td>\n",
       "    </tr>\n",
       "    <tr>\n",
       "      <th>1</th>\n",
       "      <td>India</td>\n",
       "      <td>India</td>\n",
       "      <td>Incorrect Location</td>\n",
       "      <td>8708</td>\n",
       "    </tr>\n",
       "    <tr>\n",
       "      <th>2</th>\n",
       "      <td>USA</td>\n",
       "      <td>United States</td>\n",
       "      <td>Incorrect Location</td>\n",
       "      <td>5592</td>\n",
       "    </tr>\n",
       "    <tr>\n",
       "      <th>3</th>\n",
       "      <td>New York, NY</td>\n",
       "      <td>United States</td>\n",
       "      <td>New York</td>\n",
       "      <td>4083</td>\n",
       "    </tr>\n",
       "    <tr>\n",
       "      <th>4</th>\n",
       "      <td>Washington, DC</td>\n",
       "      <td>United States</td>\n",
       "      <td>Washington</td>\n",
       "      <td>4057</td>\n",
       "    </tr>\n",
       "  </tbody>\n",
       "</table>\n",
       "</div>"
      ],
      "text/plain": [
       "         Raw Data   Country Name          City/State  Tweet Count\n",
       "0   United States  United States  Incorrect Location        11591\n",
       "1           India          India  Incorrect Location         8708\n",
       "2             USA  United States  Incorrect Location         5592\n",
       "3    New York, NY  United States            New York         4083\n",
       "4  Washington, DC  United States          Washington         4057"
      ]
     },
     "execution_count": 74,
     "metadata": {},
     "output_type": "execute_result"
    }
   ],
   "source": [
    "#Filtering all User defined locations where tweets were more then 500\n",
    "tempx=temp[temp > 500]\n",
    "#Putting all this data in a dataframe tempx2\n",
    "tempx2=pd.DataFrame(tempx)  \n",
    "tempx2.to_csv('LocationFiletemp.csv')\n",
    "#Reading the above created dataframe after making all the changes\n",
    "tempx3=pd.read_csv('/Users/nikhiljoshi/Capstone Project/EDA Files/LocationFileTemp.csv')\n",
    "tempx3.head()\n"
   ]
  },
  {
   "cell_type": "code",
   "execution_count": 75,
   "id": "7bee98fb",
   "metadata": {},
   "outputs": [
    {
     "data": {
      "text/plain": [
       "Text(0, 0.5, 'Count of Tweets')"
      ]
     },
     "execution_count": 75,
     "metadata": {},
     "output_type": "execute_result"
    },
    {
     "data": {
      "image/png": "[encoded data removed]",
      "text/plain": [
       "<Figure size 792x288 with 1 Axes>"
      ]
     },
     "metadata": {},
     "output_type": "display_data"
    }
   ],
   "source": [
    "#Plotting the above Location information\n",
    "plt.figure(figsize=(11,4))\n",
    "ax=sns.countplot(x='Country Name', data=tempx3,palette='Paired',order=tempx3['Country Name'].value_counts().index)\n",
    "ax.set_xlabel('Tweets from Countries')\n",
    "ax.set_ylabel('Count of Tweets')"
   ]
  },
  {
   "cell_type": "markdown",
   "id": "e21ffdf5",
   "metadata": {},
   "source": [
    "##### From the above plot, we observe that United States is the primary location of our tweets\n",
    "\n"
   ]
  },
  {
   "cell_type": "code",
   "execution_count": 76,
   "id": "c2017ea9",
   "metadata": {},
   "outputs": [
    {
     "data": {
      "text/plain": [
       "Text(0, 0.5, 'Total Tweets')"
      ]
     },
     "execution_count": 76,
     "metadata": {},
     "output_type": "execute_result"
    },
    {
     "data": {
      "image/png": "[encoded data removed]",
      "text/plain": [
       "<Figure size 1728x288 with 1 Axes>"
      ]
     },
     "metadata": {},
     "output_type": "display_data"
    }
   ],
   "source": [
    "plt.figure(figsize=(24,4))\n",
    "ax=sns.countplot(x='City/State', data=tempx3,palette='pastel',order=tempx3['City/State'].value_counts().index)\n",
    "ax.set_xlabel('Tweets from Cities/States')\n",
    "ax.set_ylabel('Total Tweets')\n",
    "#plt.xticks(rotation=10)\n"
   ]
  },
  {
   "cell_type": "markdown",
   "id": "f24ce55c",
   "metadata": {},
   "source": [
    "#### Analyzing \"Place\" Column"
   ]
  },
  {
   "cell_type": "code",
   "execution_count": 77,
   "id": "5e96b9dc-d98b-4fdb-8818-a7f2683e5e7c",
   "metadata": {},
   "outputs": [
    {
     "data": {
      "text/plain": [
       "488057"
      ]
     },
     "execution_count": 77,
     "metadata": {},
     "output_type": "execute_result"
    }
   ],
   "source": [
    "df_result.Place.isna().sum()"
   ]
  },
  {
   "cell_type": "code",
   "execution_count": 78,
   "id": "29a9c241-056a-4d70-9658-9fd27b2a33df",
   "metadata": {},
   "outputs": [],
   "source": [
    "temp2=df_result['Place'].value_counts()"
   ]
  },
  {
   "cell_type": "code",
   "execution_count": 79,
   "id": "2fb26a07-44a2-4f53-832d-b8b3a516e9ff",
   "metadata": {},
   "outputs": [
    {
     "name": "stdout",
     "output_type": "stream",
     "text": [
      "Coordinates(longitude=-118.668404, latitude=33.704538)     437\n",
      "Coordinates(longitude=-77.119401, latitude=38.801826)      418\n",
      "Coordinates(longitude=-74.026675, latitude=40.683935)      414\n",
      "Coordinates(longitude=72.74484, latitude=18.845343)        232\n",
      "Coordinates(longitude=-122.514926, latitude=37.708075)     216\n",
      "Coordinates(longitude=76.84252, latitude=28.397657)        214\n",
      "Coordinates(longitude=-95.823268, latitude=29.522325)      207\n",
      "Coordinates(longitude=-79.639319, latitude=43.403221)      188\n",
      "Coordinates(longitude=-74.041878, latitude=40.570842)      180\n",
      "Coordinates(longitude=-73.962582, latitude=40.541722)      173\n",
      "Coordinates(longitude=-75.280284, latitude=39.871811)      165\n",
      "Coordinates(longitude=-71.191421, latitude=42.227797)      151\n",
      "Coordinates(longitude=-87.940033, latitude=41.644102)      151\n",
      "Coordinates(longitude=-122.436232, latitude=47.4953154)    147\n",
      "Coordinates(longitude=72.946773, latitude=18.807586)       130\n",
      "Coordinates(longitude=-78.030531, latitude=44.148007)      103\n",
      "Coordinates(longitude=-2.3594986, latitude=7.2742383)      102\n",
      "Name: Place, dtype: int64\n"
     ]
    }
   ],
   "source": [
    "print( temp2[temp2 > 100])"
   ]
  },
  {
   "cell_type": "code",
   "execution_count": 80,
   "id": "7e00459a-9754-4fc4-be3f-6b3cf26273e3",
   "metadata": {},
   "outputs": [],
   "source": [
    "#from wordcloud import WordCloud, STOPWORDS\n",
    "\n",
    "#comment_words = ''\n",
    "#stopwords = set(STOPWORDS)\n",
    "\n",
    "#for val in df_result.Text:\n",
    "     \n",
    "    # typecaste each val to string\n",
    " #   val = str(val)\n",
    " \n",
    "    # split the value\n",
    "#    tokens = val.split()\n",
    "     \n",
    "    # Converts each token into lowercase\n",
    "#    for i in range(len(tokens)):\n",
    "#        tokens[i] = tokens[i].lower()\n",
    "     \n",
    "#    comment_words += \" \".join(tokens)+\" \"\n",
    " \n",
    "#wordcloud = WordCloud(width = 800, height = 800,\n",
    "#                background_color ='white',\n",
    "#                stopwords = stopwords,\n",
    "#                min_font_size = 10).generate(comment_words)\n",
    " \n",
    "# plot the WordCloud image                      \n",
    "#plt.figure(figsize = (8, 8), facecolor = None)\n",
    "#plt.imshow(wordcloud)\n",
    "#plt.axis(\"off\")\n",
    "#plt.tight_layout(pad = 0)\n",
    " \n",
    "#plt.show()"
   ]
  },
  {
   "cell_type": "code",
   "execution_count": 81,
   "id": "b1298f1c-a654-4305-934b-df442fc5c3cf",
   "metadata": {},
   "outputs": [
    {
     "data": {
      "text/html": [
       "<div>\n",
       "<style scoped>\n",
       "    .dataframe tbody tr th:only-of-type {\n",
       "        vertical-align: middle;\n",
       "    }\n",
       "\n",
       "    .dataframe tbody tr th {\n",
       "        vertical-align: top;\n",
       "    }\n",
       "\n",
       "    .dataframe thead th {\n",
       "        text-align: right;\n",
       "    }\n",
       "</style>\n",
       "<table border=\"1\" class=\"dataframe\">\n",
       "  <thead>\n",
       "    <tr style=\"text-align: right;\">\n",
       "      <th></th>\n",
       "      <th>Datetime</th>\n",
       "      <th>Tweet Id</th>\n",
       "      <th>Text</th>\n",
       "      <th>Location</th>\n",
       "      <th>Retweet</th>\n",
       "      <th>Like</th>\n",
       "      <th>Hashtags</th>\n",
       "      <th>new_Hashtags</th>\n",
       "    </tr>\n",
       "  </thead>\n",
       "  <tbody>\n",
       "    <tr>\n",
       "      <th>0</th>\n",
       "      <td>2022-05-28 14:07:28</td>\n",
       "      <td>1530551333899616256</td>\n",
       "      <td>@elonmusk i think twitter bird is now free. Bu...</td>\n",
       "      <td>NaN</td>\n",
       "      <td>1</td>\n",
       "      <td>1</td>\n",
       "      <td>['Chinesevirus']</td>\n",
       "      <td>chinesevirus</td>\n",
       "    </tr>\n",
       "    <tr>\n",
       "      <th>1</th>\n",
       "      <td>2022-05-28 10:07:40</td>\n",
       "      <td>1530490986001969152</td>\n",
       "      <td>@joydeepg9 @Deekay01119442 @TNSubbaRao1 There ...</td>\n",
       "      <td>बस यहीं..</td>\n",
       "      <td>0</td>\n",
       "      <td>2</td>\n",
       "      <td>['ChineseVirus', 'Bollywoodias']</td>\n",
       "      <td>chinesevirus bollywoodias</td>\n",
       "    </tr>\n",
       "    <tr>\n",
       "      <th>2</th>\n",
       "      <td>2022-05-28 04:16:27</td>\n",
       "      <td>1530402599618244610</td>\n",
       "      <td>@nytimes Once again the entitled NYT wants to ...</td>\n",
       "      <td>NaN</td>\n",
       "      <td>0</td>\n",
       "      <td>0</td>\n",
       "      <td>['ChineseVirus']</td>\n",
       "      <td>chinesevirus</td>\n",
       "    </tr>\n",
       "    <tr>\n",
       "      <th>3</th>\n",
       "      <td>2022-05-27 15:47:59</td>\n",
       "      <td>1530214238320467969</td>\n",
       "      <td>#NoWonder #China's #WhiteTerror or #BlueTerror...</td>\n",
       "      <td>NaN</td>\n",
       "      <td>2</td>\n",
       "      <td>6</td>\n",
       "      <td>['NoWonder', 'China', 'WhiteTerror', 'BlueTerr...</td>\n",
       "      <td>nowonder china whiteterror blueterror ccp free...</td>\n",
       "    </tr>\n",
       "    <tr>\n",
       "      <th>4</th>\n",
       "      <td>2022-05-27 15:31:08</td>\n",
       "      <td>1530210001649811458</td>\n",
       "      <td>Hey, what a surprise, 1 year later and nada! #...</td>\n",
       "      <td>New York</td>\n",
       "      <td>1</td>\n",
       "      <td>0</td>\n",
       "      <td>['JustAFriendlyReminder', 'ChineseVirus', 'Cov...</td>\n",
       "      <td>justafriendlyreminder chinesevirus coverup</td>\n",
       "    </tr>\n",
       "    <tr>\n",
       "      <th>...</th>\n",
       "      <td>...</td>\n",
       "      <td>...</td>\n",
       "      <td>...</td>\n",
       "      <td>...</td>\n",
       "      <td>...</td>\n",
       "      <td>...</td>\n",
       "      <td>...</td>\n",
       "      <td>...</td>\n",
       "    </tr>\n",
       "    <tr>\n",
       "      <th>505101</th>\n",
       "      <td>2017-12-31 09:30:00</td>\n",
       "      <td>947399429383786496</td>\n",
       "      <td>Father returns from overseas wedding after son...</td>\n",
       "      <td>San Francisco</td>\n",
       "      <td>0</td>\n",
       "      <td>1</td>\n",
       "      <td>['AAPI']</td>\n",
       "      <td>aapi</td>\n",
       "    </tr>\n",
       "    <tr>\n",
       "      <th>505102</th>\n",
       "      <td>2017-12-31 09:00:01</td>\n",
       "      <td>947391885525516288</td>\n",
       "      <td>Future unclear for White House Commission on #...</td>\n",
       "      <td>San Francisco</td>\n",
       "      <td>0</td>\n",
       "      <td>1</td>\n",
       "      <td>['Asian', 'AAPI']</td>\n",
       "      <td>asian aapi</td>\n",
       "    </tr>\n",
       "    <tr>\n",
       "      <th>505103</th>\n",
       "      <td>2017-12-31 08:22:32</td>\n",
       "      <td>947382453009879040</td>\n",
       "      <td>Happy New year to my fav #Aapi on #Twitter @Ar...</td>\n",
       "      <td>Lleida, España</td>\n",
       "      <td>1</td>\n",
       "      <td>0</td>\n",
       "      <td>['Aapi', 'Twitter']</td>\n",
       "      <td>aapi twitter</td>\n",
       "    </tr>\n",
       "    <tr>\n",
       "      <th>505104</th>\n",
       "      <td>2017-12-31 06:30:00</td>\n",
       "      <td>947354130661519361</td>\n",
       "      <td>NY Times called out for misstep in Asian cultu...</td>\n",
       "      <td>San Francisco</td>\n",
       "      <td>0</td>\n",
       "      <td>1</td>\n",
       "      <td>['AAPI']</td>\n",
       "      <td>aapi</td>\n",
       "    </tr>\n",
       "    <tr>\n",
       "      <th>505105</th>\n",
       "      <td>2017-12-31 05:30:00</td>\n",
       "      <td>947339031620259840</td>\n",
       "      <td>How an #Asian American woman fought for her ci...</td>\n",
       "      <td>San Francisco</td>\n",
       "      <td>0</td>\n",
       "      <td>1</td>\n",
       "      <td>['Asian', 'AAPI']</td>\n",
       "      <td>asian aapi</td>\n",
       "    </tr>\n",
       "  </tbody>\n",
       "</table>\n",
       "<p>505106 rows × 8 columns</p>\n",
       "</div>"
      ],
      "text/plain": [
       "                  Datetime             Tweet Id  \\\n",
       "0      2022-05-28 14:07:28  1530551333899616256   \n",
       "1      2022-05-28 10:07:40  1530490986001969152   \n",
       "2      2022-05-28 04:16:27  1530402599618244610   \n",
       "3      2022-05-27 15:47:59  1530214238320467969   \n",
       "4      2022-05-27 15:31:08  1530210001649811458   \n",
       "...                    ...                  ...   \n",
       "505101 2017-12-31 09:30:00   947399429383786496   \n",
       "505102 2017-12-31 09:00:01   947391885525516288   \n",
       "505103 2017-12-31 08:22:32   947382453009879040   \n",
       "505104 2017-12-31 06:30:00   947354130661519361   \n",
       "505105 2017-12-31 05:30:00   947339031620259840   \n",
       "\n",
       "                                                     Text        Location  \\\n",
       "0       @elonmusk i think twitter bird is now free. Bu...             NaN   \n",
       "1       @joydeepg9 @Deekay01119442 @TNSubbaRao1 There ...       बस यहीं..   \n",
       "2       @nytimes Once again the entitled NYT wants to ...             NaN   \n",
       "3       #NoWonder #China's #WhiteTerror or #BlueTerror...             NaN   \n",
       "4       Hey, what a surprise, 1 year later and nada! #...        New York   \n",
       "...                                                   ...             ...   \n",
       "505101  Father returns from overseas wedding after son...   San Francisco   \n",
       "505102  Future unclear for White House Commission on #...   San Francisco   \n",
       "505103  Happy New year to my fav #Aapi on #Twitter @Ar...  Lleida, España   \n",
       "505104  NY Times called out for misstep in Asian cultu...   San Francisco   \n",
       "505105  How an #Asian American woman fought for her ci...   San Francisco   \n",
       "\n",
       "        Retweet  Like                                           Hashtags  \\\n",
       "0             1     1                                   ['Chinesevirus']   \n",
       "1             0     2                   ['ChineseVirus', 'Bollywoodias']   \n",
       "2             0     0                                   ['ChineseVirus']   \n",
       "3             2     6  ['NoWonder', 'China', 'WhiteTerror', 'BlueTerr...   \n",
       "4             1     0  ['JustAFriendlyReminder', 'ChineseVirus', 'Cov...   \n",
       "...         ...   ...                                                ...   \n",
       "505101        0     1                                           ['AAPI']   \n",
       "505102        0     1                                  ['Asian', 'AAPI']   \n",
       "505103        1     0                                ['Aapi', 'Twitter']   \n",
       "505104        0     1                                           ['AAPI']   \n",
       "505105        0     1                                  ['Asian', 'AAPI']   \n",
       "\n",
       "                                             new_Hashtags  \n",
       "0                                            chinesevirus  \n",
       "1                               chinesevirus bollywoodias  \n",
       "2                                            chinesevirus  \n",
       "3       nowonder china whiteterror blueterror ccp free...  \n",
       "4              justafriendlyreminder chinesevirus coverup  \n",
       "...                                                   ...  \n",
       "505101                                               aapi  \n",
       "505102                                         asian aapi  \n",
       "505103                                       aapi twitter  \n",
       "505104                                               aapi  \n",
       "505105                                         asian aapi  \n",
       "\n",
       "[505106 rows x 8 columns]"
      ]
     },
     "execution_count": 81,
     "metadata": {},
     "output_type": "execute_result"
    }
   ],
   "source": [
    "df_result=df_result.drop(['Place'], axis=1)\n",
    "df_result.reset_index(drop=True)"
   ]
  }
 ],
 "metadata": {
  "interpreter": {
   "hash": "b150984740fdf7a72966a4799adcabc4c74de8e98c33bd097cc544a8aaf6dd26"
  },
  "kernelspec": {
   "display_name": "Python 3.8.12 ('mlp')",
   "language": "python",
   "name": "python3"
  },
  "language_info": {
   "codemirror_mode": {
    "name": "ipython",
    "version": 3
   },
   "file_extension": ".py",
   "mimetype": "text/x-python",
   "name": "python",
   "nbconvert_exporter": "python",
   "pygments_lexer": "ipython3",
   "version": "3.8.12"
  }
 },
 "nbformat": 4,
 "nbformat_minor": 5
}
