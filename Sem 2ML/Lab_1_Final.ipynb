{
 "cells": [
  {
   "cell_type": "markdown",
   "metadata": {},
   "source": [
    "# DAB200 -- Lab 1\n",
    "\n",
    "In this lab, you will gain some experience in creating and evaluating random forests models and in manually tuning some hyper-parameters.\n",
    "See each Part below for specific instructions but overall, keep the following in mind:\n",
    " - the code for each Part of this lab should be self-contained, that is, each of **Part 1, 2,** and **3** should contain all the necessary code and not rely on code from another **Part** of the lab in order to run (excluding import statements);\n",
    " - all parts of the lab should be done using python, sklearn, pandas, numpy, and matplotlib. \n",
    "\n",
    "**Grading:** \n",
    "\n",
    "45% of the grade will come from error-free code that accomplishes all the steps outlined in the instructions above and for each part of this lab. Another 45% will come from the comments associated with that code and answers to any questions noted, where the comments explain what the code is doing and why it is important to the overall objective. Thus, comments like \"split the data\" or \"train the model\" would receive a grade of 0 as they do not indicate any understanding. For his lab, the comments should be provided within each code cell, using the `#` character. The remaining 10% of the grade will be for formatting and clarity of comments/answers, that is, the lab should be easy to read and understand.  \n",
    "\n",
    "**What to submit**\n",
    "You should submit the following:\n",
    " - a **zip** file containing:\n",
    "     - a completed version of this notebook with **all cells executed** and **all output visible**;\n",
    "     - an html/PDF version of this notebook with all cells executed and all output visible.\n",
    "\n",
    "**Independent research will most likely be required in order to complete the lab properly.**"
   ]
  },
  {
   "cell_type": "markdown",
   "metadata": {
    "id": "cellular-stadium"
   },
   "source": [
    "## Part 1 - Creating and evaluating a random forest model\n",
    "\n",
    "In this part of the lab, you should:\n",
    " - read in the data;\n",
    " - verify that all the data is numeric and that there are no missing values;\n",
    " - split the data into training and validation sets (don't worry about creating a final test set);\n",
    " - create a random forest model using the data;\n",
    " - evaluate the model on both the training and validation sets using MAE and % error."
   ]
  },
  {
   "cell_type": "markdown",
   "metadata": {
    "id": "pretty-bargain"
   },
   "source": [
    "## Data Description"
   ]
  },
  {
   "cell_type": "code",
   "execution_count": 1,
   "metadata": {
    "id": "alive-pension"
   },
   "outputs": [],
   "source": [
    "import pandas as pd # Importing the pandas package"
   ]
  },
  {
   "cell_type": "code",
   "execution_count": 2,
   "metadata": {
    "colab": {
     "base_uri": "https://localhost:8080/",
     "height": 204
    },
    "id": "developing-cancellation",
    "outputId": "ff7f71a8-7eda-4353-8661-d05e5caa0d11"
   },
   "outputs": [
    {
     "data": {
      "text/html": [
       "<div>\n",
       "<style scoped>\n",
       "    .dataframe tbody tr th:only-of-type {\n",
       "        vertical-align: middle;\n",
       "    }\n",
       "\n",
       "    .dataframe tbody tr th {\n",
       "        vertical-align: top;\n",
       "    }\n",
       "\n",
       "    .dataframe thead th {\n",
       "        text-align: right;\n",
       "    }\n",
       "</style>\n",
       "<table border=\"1\" class=\"dataframe\">\n",
       "  <thead>\n",
       "    <tr style=\"text-align: right;\">\n",
       "      <th></th>\n",
       "      <th>bedrooms</th>\n",
       "      <th>bathrooms</th>\n",
       "      <th>m2_living</th>\n",
       "      <th>floors</th>\n",
       "      <th>m2_above</th>\n",
       "      <th>m2_basement</th>\n",
       "      <th>m2_lot</th>\n",
       "      <th>view</th>\n",
       "      <th>quality</th>\n",
       "      <th>yr_built</th>\n",
       "      <th>renovated_last_5</th>\n",
       "      <th>city</th>\n",
       "      <th>statezip</th>\n",
       "      <th>price</th>\n",
       "    </tr>\n",
       "  </thead>\n",
       "  <tbody>\n",
       "    <tr>\n",
       "      <th>0</th>\n",
       "      <td>3</td>\n",
       "      <td>1.50</td>\n",
       "      <td>124.0</td>\n",
       "      <td>1.5</td>\n",
       "      <td>124.0</td>\n",
       "      <td>0.0</td>\n",
       "      <td>735.0</td>\n",
       "      <td>0</td>\n",
       "      <td>3</td>\n",
       "      <td>1961</td>\n",
       "      <td>0</td>\n",
       "      <td>37</td>\n",
       "      <td>63</td>\n",
       "      <td>313000.0</td>\n",
       "    </tr>\n",
       "    <tr>\n",
       "      <th>1</th>\n",
       "      <td>5</td>\n",
       "      <td>2.50</td>\n",
       "      <td>339.0</td>\n",
       "      <td>2.0</td>\n",
       "      <td>313.0</td>\n",
       "      <td>26.0</td>\n",
       "      <td>841.0</td>\n",
       "      <td>4</td>\n",
       "      <td>5</td>\n",
       "      <td>1927</td>\n",
       "      <td>1</td>\n",
       "      <td>36</td>\n",
       "      <td>59</td>\n",
       "      <td>2384000.0</td>\n",
       "    </tr>\n",
       "    <tr>\n",
       "      <th>2</th>\n",
       "      <td>3</td>\n",
       "      <td>2.00</td>\n",
       "      <td>179.0</td>\n",
       "      <td>1.0</td>\n",
       "      <td>179.0</td>\n",
       "      <td>0.0</td>\n",
       "      <td>1110.0</td>\n",
       "      <td>0</td>\n",
       "      <td>4</td>\n",
       "      <td>1972</td>\n",
       "      <td>1</td>\n",
       "      <td>19</td>\n",
       "      <td>27</td>\n",
       "      <td>342000.0</td>\n",
       "    </tr>\n",
       "    <tr>\n",
       "      <th>3</th>\n",
       "      <td>3</td>\n",
       "      <td>2.25</td>\n",
       "      <td>186.0</td>\n",
       "      <td>1.0</td>\n",
       "      <td>93.0</td>\n",
       "      <td>93.0</td>\n",
       "      <td>746.0</td>\n",
       "      <td>0</td>\n",
       "      <td>4</td>\n",
       "      <td>1969</td>\n",
       "      <td>1</td>\n",
       "      <td>4</td>\n",
       "      <td>8</td>\n",
       "      <td>420000.0</td>\n",
       "    </tr>\n",
       "    <tr>\n",
       "      <th>4</th>\n",
       "      <td>4</td>\n",
       "      <td>2.50</td>\n",
       "      <td>180.0</td>\n",
       "      <td>1.0</td>\n",
       "      <td>106.0</td>\n",
       "      <td>74.0</td>\n",
       "      <td>975.0</td>\n",
       "      <td>0</td>\n",
       "      <td>4</td>\n",
       "      <td>1982</td>\n",
       "      <td>0</td>\n",
       "      <td>32</td>\n",
       "      <td>32</td>\n",
       "      <td>550000.0</td>\n",
       "    </tr>\n",
       "  </tbody>\n",
       "</table>\n",
       "</div>"
      ],
      "text/plain": [
       "   bedrooms  bathrooms  m2_living  floors  m2_above  m2_basement  m2_lot  \\\n",
       "0         3       1.50      124.0     1.5     124.0          0.0   735.0   \n",
       "1         5       2.50      339.0     2.0     313.0         26.0   841.0   \n",
       "2         3       2.00      179.0     1.0     179.0          0.0  1110.0   \n",
       "3         3       2.25      186.0     1.0      93.0         93.0   746.0   \n",
       "4         4       2.50      180.0     1.0     106.0         74.0   975.0   \n",
       "\n",
       "   view  quality  yr_built  renovated_last_5  city  statezip      price  \n",
       "0     0        3      1961                 0    37        63   313000.0  \n",
       "1     4        5      1927                 1    36        59  2384000.0  \n",
       "2     0        4      1972                 1    19        27   342000.0  \n",
       "3     0        4      1969                 1     4         8   420000.0  \n",
       "4     0        4      1982                 0    32        32   550000.0  "
      ]
     },
     "execution_count": 2,
     "metadata": {},
     "output_type": "execute_result"
    }
   ],
   "source": [
    "rent = pd.read_csv('house_data.csv') # Reading the dataset called house_data.csv as rent\n",
    "rent.head()                          # Looking at the top rows of the data"
   ]
  },
  {
   "cell_type": "code",
   "execution_count": 3,
   "metadata": {
    "colab": {
     "base_uri": "https://localhost:8080/",
     "height": 204
    },
    "id": "modern-shark",
    "outputId": "710578ee-509a-44e7-e6fa-3bafc7698d1b"
   },
   "outputs": [
    {
     "data": {
      "text/html": [
       "<div>\n",
       "<style scoped>\n",
       "    .dataframe tbody tr th:only-of-type {\n",
       "        vertical-align: middle;\n",
       "    }\n",
       "\n",
       "    .dataframe tbody tr th {\n",
       "        vertical-align: top;\n",
       "    }\n",
       "\n",
       "    .dataframe thead th {\n",
       "        text-align: right;\n",
       "    }\n",
       "</style>\n",
       "<table border=\"1\" class=\"dataframe\">\n",
       "  <thead>\n",
       "    <tr style=\"text-align: right;\">\n",
       "      <th></th>\n",
       "      <th>bedrooms</th>\n",
       "      <th>bathrooms</th>\n",
       "      <th>m2_living</th>\n",
       "      <th>floors</th>\n",
       "      <th>m2_above</th>\n",
       "      <th>m2_basement</th>\n",
       "      <th>m2_lot</th>\n",
       "      <th>view</th>\n",
       "      <th>quality</th>\n",
       "      <th>yr_built</th>\n",
       "      <th>renovated_last_5</th>\n",
       "      <th>city</th>\n",
       "      <th>statezip</th>\n",
       "      <th>price</th>\n",
       "    </tr>\n",
       "  </thead>\n",
       "  <tbody>\n",
       "    <tr>\n",
       "      <th>4595</th>\n",
       "      <td>3</td>\n",
       "      <td>1.75</td>\n",
       "      <td>140.0</td>\n",
       "      <td>1.0</td>\n",
       "      <td>140.0</td>\n",
       "      <td>0.0</td>\n",
       "      <td>591.0</td>\n",
       "      <td>0</td>\n",
       "      <td>4</td>\n",
       "      <td>1960</td>\n",
       "      <td>0</td>\n",
       "      <td>36</td>\n",
       "      <td>63</td>\n",
       "      <td>308166.6667</td>\n",
       "    </tr>\n",
       "    <tr>\n",
       "      <th>4596</th>\n",
       "      <td>3</td>\n",
       "      <td>2.50</td>\n",
       "      <td>136.0</td>\n",
       "      <td>2.0</td>\n",
       "      <td>136.0</td>\n",
       "      <td>0.0</td>\n",
       "      <td>704.0</td>\n",
       "      <td>0</td>\n",
       "      <td>3</td>\n",
       "      <td>1989</td>\n",
       "      <td>0</td>\n",
       "      <td>4</td>\n",
       "      <td>7</td>\n",
       "      <td>534333.3333</td>\n",
       "    </tr>\n",
       "    <tr>\n",
       "      <th>4597</th>\n",
       "      <td>3</td>\n",
       "      <td>2.50</td>\n",
       "      <td>280.0</td>\n",
       "      <td>2.0</td>\n",
       "      <td>280.0</td>\n",
       "      <td>0.0</td>\n",
       "      <td>652.0</td>\n",
       "      <td>0</td>\n",
       "      <td>3</td>\n",
       "      <td>2015</td>\n",
       "      <td>1</td>\n",
       "      <td>33</td>\n",
       "      <td>38</td>\n",
       "      <td>416904.1667</td>\n",
       "    </tr>\n",
       "    <tr>\n",
       "      <th>4598</th>\n",
       "      <td>4</td>\n",
       "      <td>2.00</td>\n",
       "      <td>194.0</td>\n",
       "      <td>1.0</td>\n",
       "      <td>99.0</td>\n",
       "      <td>95.0</td>\n",
       "      <td>616.0</td>\n",
       "      <td>0</td>\n",
       "      <td>3</td>\n",
       "      <td>1980</td>\n",
       "      <td>1</td>\n",
       "      <td>36</td>\n",
       "      <td>72</td>\n",
       "      <td>203400.0000</td>\n",
       "    </tr>\n",
       "    <tr>\n",
       "      <th>4599</th>\n",
       "      <td>3</td>\n",
       "      <td>2.50</td>\n",
       "      <td>138.0</td>\n",
       "      <td>2.0</td>\n",
       "      <td>138.0</td>\n",
       "      <td>0.0</td>\n",
       "      <td>753.0</td>\n",
       "      <td>0</td>\n",
       "      <td>4</td>\n",
       "      <td>1996</td>\n",
       "      <td>1</td>\n",
       "      <td>10</td>\n",
       "      <td>27</td>\n",
       "      <td>220600.0000</td>\n",
       "    </tr>\n",
       "  </tbody>\n",
       "</table>\n",
       "</div>"
      ],
      "text/plain": [
       "      bedrooms  bathrooms  m2_living  floors  m2_above  m2_basement  m2_lot  \\\n",
       "4595         3       1.75      140.0     1.0     140.0          0.0   591.0   \n",
       "4596         3       2.50      136.0     2.0     136.0          0.0   704.0   \n",
       "4597         3       2.50      280.0     2.0     280.0          0.0   652.0   \n",
       "4598         4       2.00      194.0     1.0      99.0         95.0   616.0   \n",
       "4599         3       2.50      138.0     2.0     138.0          0.0   753.0   \n",
       "\n",
       "      view  quality  yr_built  renovated_last_5  city  statezip        price  \n",
       "4595     0        4      1960                 0    36        63  308166.6667  \n",
       "4596     0        3      1989                 0     4         7  534333.3333  \n",
       "4597     0        3      2015                 1    33        38  416904.1667  \n",
       "4598     0        3      1980                 1    36        72  203400.0000  \n",
       "4599     0        4      1996                 1    10        27  220600.0000  "
      ]
     },
     "execution_count": 3,
     "metadata": {},
     "output_type": "execute_result"
    }
   ],
   "source": [
    "rent.tail() # # Looking at the bottom rows of the data"
   ]
  },
  {
   "cell_type": "code",
   "execution_count": 4,
   "metadata": {
    "colab": {
     "base_uri": "https://localhost:8080/"
    },
    "id": "theoretical-privacy",
    "outputId": "ccdcbc80-2500-488c-906f-a5d2683f21c0"
   },
   "outputs": [
    {
     "name": "stdout",
     "output_type": "stream",
     "text": [
      "<class 'pandas.core.frame.DataFrame'>\n",
      "RangeIndex: 4600 entries, 0 to 4599\n",
      "Data columns (total 14 columns):\n",
      " #   Column            Non-Null Count  Dtype  \n",
      "---  ------            --------------  -----  \n",
      " 0   bedrooms          4600 non-null   int64  \n",
      " 1   bathrooms         4600 non-null   float64\n",
      " 2   m2_living         4600 non-null   float64\n",
      " 3   floors            4600 non-null   float64\n",
      " 4   m2_above          4600 non-null   float64\n",
      " 5   m2_basement       4600 non-null   float64\n",
      " 6   m2_lot            4600 non-null   float64\n",
      " 7   view              4600 non-null   int64  \n",
      " 8   quality           4600 non-null   int64  \n",
      " 9   yr_built          4600 non-null   int64  \n",
      " 10  renovated_last_5  4600 non-null   int64  \n",
      " 11  city              4600 non-null   int64  \n",
      " 12  statezip          4600 non-null   int64  \n",
      " 13  price             4600 non-null   float64\n",
      "dtypes: float64(7), int64(7)\n",
      "memory usage: 503.2 KB\n"
     ]
    }
   ],
   "source": [
    "rent.info() # Basic Information about the data"
   ]
  },
  {
   "cell_type": "code",
   "execution_count": 5,
   "metadata": {
    "id": "educated-combination",
    "outputId": "daad02af-227a-46b2-bb19-27ea24c78846"
   },
   "outputs": [
    {
     "data": {
      "text/html": [
       "<div>\n",
       "<style scoped>\n",
       "    .dataframe tbody tr th:only-of-type {\n",
       "        vertical-align: middle;\n",
       "    }\n",
       "\n",
       "    .dataframe tbody tr th {\n",
       "        vertical-align: top;\n",
       "    }\n",
       "\n",
       "    .dataframe thead th {\n",
       "        text-align: right;\n",
       "    }\n",
       "</style>\n",
       "<table border=\"1\" class=\"dataframe\">\n",
       "  <thead>\n",
       "    <tr style=\"text-align: right;\">\n",
       "      <th></th>\n",
       "      <th>bedrooms</th>\n",
       "      <th>bathrooms</th>\n",
       "      <th>m2_living</th>\n",
       "      <th>floors</th>\n",
       "      <th>m2_above</th>\n",
       "      <th>m2_basement</th>\n",
       "      <th>m2_lot</th>\n",
       "      <th>view</th>\n",
       "      <th>quality</th>\n",
       "      <th>yr_built</th>\n",
       "      <th>renovated_last_5</th>\n",
       "      <th>city</th>\n",
       "      <th>statezip</th>\n",
       "      <th>price</th>\n",
       "    </tr>\n",
       "  </thead>\n",
       "  <tbody>\n",
       "    <tr>\n",
       "      <th>count</th>\n",
       "      <td>4600.000000</td>\n",
       "      <td>4600.000000</td>\n",
       "      <td>4600.000000</td>\n",
       "      <td>4600.000000</td>\n",
       "      <td>4600.000000</td>\n",
       "      <td>4600.000000</td>\n",
       "      <td>4600.000000</td>\n",
       "      <td>4600.000000</td>\n",
       "      <td>4600.000000</td>\n",
       "      <td>4600.000000</td>\n",
       "      <td>4600.000000</td>\n",
       "      <td>4600.000000</td>\n",
       "      <td>4600.000000</td>\n",
       "      <td>4.600000e+03</td>\n",
       "    </tr>\n",
       "    <tr>\n",
       "      <th>mean</th>\n",
       "      <td>3.400870</td>\n",
       "      <td>2.160815</td>\n",
       "      <td>198.753261</td>\n",
       "      <td>1.512065</td>\n",
       "      <td>169.760652</td>\n",
       "      <td>28.988478</td>\n",
       "      <td>1379.849565</td>\n",
       "      <td>0.240652</td>\n",
       "      <td>3.451739</td>\n",
       "      <td>1976.786304</td>\n",
       "      <td>0.636957</td>\n",
       "      <td>26.674348</td>\n",
       "      <td>39.743696</td>\n",
       "      <td>5.519630e+05</td>\n",
       "    </tr>\n",
       "    <tr>\n",
       "      <th>std</th>\n",
       "      <td>0.908848</td>\n",
       "      <td>0.783781</td>\n",
       "      <td>89.496245</td>\n",
       "      <td>0.538288</td>\n",
       "      <td>80.108753</td>\n",
       "      <td>43.115435</td>\n",
       "      <td>3333.772073</td>\n",
       "      <td>0.778405</td>\n",
       "      <td>0.677230</td>\n",
       "      <td>29.731848</td>\n",
       "      <td>0.480930</td>\n",
       "      <td>11.982721</td>\n",
       "      <td>20.919517</td>\n",
       "      <td>5.638347e+05</td>\n",
       "    </tr>\n",
       "    <tr>\n",
       "      <th>min</th>\n",
       "      <td>0.000000</td>\n",
       "      <td>0.000000</td>\n",
       "      <td>34.000000</td>\n",
       "      <td>1.000000</td>\n",
       "      <td>34.000000</td>\n",
       "      <td>0.000000</td>\n",
       "      <td>59.000000</td>\n",
       "      <td>0.000000</td>\n",
       "      <td>1.000000</td>\n",
       "      <td>1906.000000</td>\n",
       "      <td>0.000000</td>\n",
       "      <td>1.000000</td>\n",
       "      <td>1.000000</td>\n",
       "      <td>0.000000e+00</td>\n",
       "    </tr>\n",
       "    <tr>\n",
       "      <th>25%</th>\n",
       "      <td>3.000000</td>\n",
       "      <td>1.750000</td>\n",
       "      <td>136.000000</td>\n",
       "      <td>1.000000</td>\n",
       "      <td>111.000000</td>\n",
       "      <td>0.000000</td>\n",
       "      <td>465.000000</td>\n",
       "      <td>0.000000</td>\n",
       "      <td>3.000000</td>\n",
       "      <td>1957.000000</td>\n",
       "      <td>0.000000</td>\n",
       "      <td>18.000000</td>\n",
       "      <td>22.000000</td>\n",
       "      <td>3.228750e+05</td>\n",
       "    </tr>\n",
       "    <tr>\n",
       "      <th>50%</th>\n",
       "      <td>3.000000</td>\n",
       "      <td>2.250000</td>\n",
       "      <td>184.000000</td>\n",
       "      <td>1.500000</td>\n",
       "      <td>148.000000</td>\n",
       "      <td>0.000000</td>\n",
       "      <td>714.000000</td>\n",
       "      <td>0.000000</td>\n",
       "      <td>3.000000</td>\n",
       "      <td>1982.000000</td>\n",
       "      <td>1.000000</td>\n",
       "      <td>33.000000</td>\n",
       "      <td>42.000000</td>\n",
       "      <td>4.609435e+05</td>\n",
       "    </tr>\n",
       "    <tr>\n",
       "      <th>75%</th>\n",
       "      <td>4.000000</td>\n",
       "      <td>2.500000</td>\n",
       "      <td>243.000000</td>\n",
       "      <td>2.000000</td>\n",
       "      <td>214.000000</td>\n",
       "      <td>57.000000</td>\n",
       "      <td>1022.000000</td>\n",
       "      <td>0.000000</td>\n",
       "      <td>4.000000</td>\n",
       "      <td>2003.000000</td>\n",
       "      <td>1.000000</td>\n",
       "      <td>36.000000</td>\n",
       "      <td>57.000000</td>\n",
       "      <td>6.549625e+05</td>\n",
       "    </tr>\n",
       "    <tr>\n",
       "      <th>max</th>\n",
       "      <td>9.000000</td>\n",
       "      <td>8.000000</td>\n",
       "      <td>1258.000000</td>\n",
       "      <td>3.500000</td>\n",
       "      <td>874.000000</td>\n",
       "      <td>448.000000</td>\n",
       "      <td>99798.000000</td>\n",
       "      <td>4.000000</td>\n",
       "      <td>5.000000</td>\n",
       "      <td>2020.000000</td>\n",
       "      <td>1.000000</td>\n",
       "      <td>44.000000</td>\n",
       "      <td>77.000000</td>\n",
       "      <td>2.659000e+07</td>\n",
       "    </tr>\n",
       "  </tbody>\n",
       "</table>\n",
       "</div>"
      ],
      "text/plain": [
       "          bedrooms    bathrooms    m2_living       floors     m2_above  \\\n",
       "count  4600.000000  4600.000000  4600.000000  4600.000000  4600.000000   \n",
       "mean      3.400870     2.160815   198.753261     1.512065   169.760652   \n",
       "std       0.908848     0.783781    89.496245     0.538288    80.108753   \n",
       "min       0.000000     0.000000    34.000000     1.000000    34.000000   \n",
       "25%       3.000000     1.750000   136.000000     1.000000   111.000000   \n",
       "50%       3.000000     2.250000   184.000000     1.500000   148.000000   \n",
       "75%       4.000000     2.500000   243.000000     2.000000   214.000000   \n",
       "max       9.000000     8.000000  1258.000000     3.500000   874.000000   \n",
       "\n",
       "       m2_basement        m2_lot         view      quality     yr_built  \\\n",
       "count  4600.000000   4600.000000  4600.000000  4600.000000  4600.000000   \n",
       "mean     28.988478   1379.849565     0.240652     3.451739  1976.786304   \n",
       "std      43.115435   3333.772073     0.778405     0.677230    29.731848   \n",
       "min       0.000000     59.000000     0.000000     1.000000  1906.000000   \n",
       "25%       0.000000    465.000000     0.000000     3.000000  1957.000000   \n",
       "50%       0.000000    714.000000     0.000000     3.000000  1982.000000   \n",
       "75%      57.000000   1022.000000     0.000000     4.000000  2003.000000   \n",
       "max     448.000000  99798.000000     4.000000     5.000000  2020.000000   \n",
       "\n",
       "       renovated_last_5         city     statezip         price  \n",
       "count       4600.000000  4600.000000  4600.000000  4.600000e+03  \n",
       "mean           0.636957    26.674348    39.743696  5.519630e+05  \n",
       "std            0.480930    11.982721    20.919517  5.638347e+05  \n",
       "min            0.000000     1.000000     1.000000  0.000000e+00  \n",
       "25%            0.000000    18.000000    22.000000  3.228750e+05  \n",
       "50%            1.000000    33.000000    42.000000  4.609435e+05  \n",
       "75%            1.000000    36.000000    57.000000  6.549625e+05  \n",
       "max            1.000000    44.000000    77.000000  2.659000e+07  "
      ]
     },
     "execution_count": 5,
     "metadata": {},
     "output_type": "execute_result"
    }
   ],
   "source": [
    "rent.describe() # Discription of the columns in the dataset"
   ]
  },
  {
   "cell_type": "markdown",
   "metadata": {
    "id": "pressing-blocking"
   },
   "source": [
    "## Creating Feature Vector and Target Vector"
   ]
  },
  {
   "cell_type": "code",
   "execution_count": 6,
   "metadata": {
    "id": "tested-possible"
   },
   "outputs": [],
   "source": [
    "x = rent[['bedrooms','bathrooms','m2_living', 'floors', 'm2_above', 'm2_basement','m2_lot', 'view', 'quality', 'yr_built', 'renovated_last_5', 'city', 'statezip']] # Creating feature vector\n",
    "y = rent['price']  # Creating the target vector\n"
   ]
  },
  {
   "cell_type": "code",
   "execution_count": 7,
   "metadata": {
    "id": "fiscal-sodium",
    "outputId": "286a5ed2-f376-4540-c174-40ba00b7cff0"
   },
   "outputs": [
    {
     "data": {
      "text/html": [
       "<div>\n",
       "<style scoped>\n",
       "    .dataframe tbody tr th:only-of-type {\n",
       "        vertical-align: middle;\n",
       "    }\n",
       "\n",
       "    .dataframe tbody tr th {\n",
       "        vertical-align: top;\n",
       "    }\n",
       "\n",
       "    .dataframe thead th {\n",
       "        text-align: right;\n",
       "    }\n",
       "</style>\n",
       "<table border=\"1\" class=\"dataframe\">\n",
       "  <thead>\n",
       "    <tr style=\"text-align: right;\">\n",
       "      <th></th>\n",
       "      <th>bedrooms</th>\n",
       "      <th>bathrooms</th>\n",
       "      <th>m2_living</th>\n",
       "      <th>floors</th>\n",
       "      <th>m2_above</th>\n",
       "      <th>m2_basement</th>\n",
       "      <th>m2_lot</th>\n",
       "      <th>view</th>\n",
       "      <th>quality</th>\n",
       "      <th>yr_built</th>\n",
       "      <th>renovated_last_5</th>\n",
       "      <th>city</th>\n",
       "      <th>statezip</th>\n",
       "    </tr>\n",
       "  </thead>\n",
       "  <tbody>\n",
       "    <tr>\n",
       "      <th>0</th>\n",
       "      <td>3</td>\n",
       "      <td>1.50</td>\n",
       "      <td>124.0</td>\n",
       "      <td>1.5</td>\n",
       "      <td>124.0</td>\n",
       "      <td>0.0</td>\n",
       "      <td>735.0</td>\n",
       "      <td>0</td>\n",
       "      <td>3</td>\n",
       "      <td>1961</td>\n",
       "      <td>0</td>\n",
       "      <td>37</td>\n",
       "      <td>63</td>\n",
       "    </tr>\n",
       "    <tr>\n",
       "      <th>1</th>\n",
       "      <td>5</td>\n",
       "      <td>2.50</td>\n",
       "      <td>339.0</td>\n",
       "      <td>2.0</td>\n",
       "      <td>313.0</td>\n",
       "      <td>26.0</td>\n",
       "      <td>841.0</td>\n",
       "      <td>4</td>\n",
       "      <td>5</td>\n",
       "      <td>1927</td>\n",
       "      <td>1</td>\n",
       "      <td>36</td>\n",
       "      <td>59</td>\n",
       "    </tr>\n",
       "    <tr>\n",
       "      <th>2</th>\n",
       "      <td>3</td>\n",
       "      <td>2.00</td>\n",
       "      <td>179.0</td>\n",
       "      <td>1.0</td>\n",
       "      <td>179.0</td>\n",
       "      <td>0.0</td>\n",
       "      <td>1110.0</td>\n",
       "      <td>0</td>\n",
       "      <td>4</td>\n",
       "      <td>1972</td>\n",
       "      <td>1</td>\n",
       "      <td>19</td>\n",
       "      <td>27</td>\n",
       "    </tr>\n",
       "    <tr>\n",
       "      <th>3</th>\n",
       "      <td>3</td>\n",
       "      <td>2.25</td>\n",
       "      <td>186.0</td>\n",
       "      <td>1.0</td>\n",
       "      <td>93.0</td>\n",
       "      <td>93.0</td>\n",
       "      <td>746.0</td>\n",
       "      <td>0</td>\n",
       "      <td>4</td>\n",
       "      <td>1969</td>\n",
       "      <td>1</td>\n",
       "      <td>4</td>\n",
       "      <td>8</td>\n",
       "    </tr>\n",
       "    <tr>\n",
       "      <th>4</th>\n",
       "      <td>4</td>\n",
       "      <td>2.50</td>\n",
       "      <td>180.0</td>\n",
       "      <td>1.0</td>\n",
       "      <td>106.0</td>\n",
       "      <td>74.0</td>\n",
       "      <td>975.0</td>\n",
       "      <td>0</td>\n",
       "      <td>4</td>\n",
       "      <td>1982</td>\n",
       "      <td>0</td>\n",
       "      <td>32</td>\n",
       "      <td>32</td>\n",
       "    </tr>\n",
       "  </tbody>\n",
       "</table>\n",
       "</div>"
      ],
      "text/plain": [
       "   bedrooms  bathrooms  m2_living  floors  m2_above  m2_basement  m2_lot  \\\n",
       "0         3       1.50      124.0     1.5     124.0          0.0   735.0   \n",
       "1         5       2.50      339.0     2.0     313.0         26.0   841.0   \n",
       "2         3       2.00      179.0     1.0     179.0          0.0  1110.0   \n",
       "3         3       2.25      186.0     1.0      93.0         93.0   746.0   \n",
       "4         4       2.50      180.0     1.0     106.0         74.0   975.0   \n",
       "\n",
       "   view  quality  yr_built  renovated_last_5  city  statezip  \n",
       "0     0        3      1961                 0    37        63  \n",
       "1     4        5      1927                 1    36        59  \n",
       "2     0        4      1972                 1    19        27  \n",
       "3     0        4      1969                 1     4         8  \n",
       "4     0        4      1982                 0    32        32  "
      ]
     },
     "execution_count": 7,
     "metadata": {},
     "output_type": "execute_result"
    }
   ],
   "source": [
    "x.head() # Looking at the top rows of the feature vector"
   ]
  },
  {
   "cell_type": "code",
   "execution_count": 8,
   "metadata": {
    "id": "christian-worse",
    "outputId": "01a4cebf-b2cd-46a0-83a8-dd1c34c83494"
   },
   "outputs": [
    {
     "data": {
      "text/plain": [
       "0     313000.0\n",
       "1    2384000.0\n",
       "2     342000.0\n",
       "3     420000.0\n",
       "4     550000.0\n",
       "Name: price, dtype: float64"
      ]
     },
     "execution_count": 8,
     "metadata": {},
     "output_type": "execute_result"
    }
   ],
   "source": [
    "y.head() # Looking at the  rows of the target vector"
   ]
  },
  {
   "cell_type": "code",
   "execution_count": 9,
   "metadata": {
    "id": "satisfied-sister",
    "outputId": "10d85219-69da-4d94-d845-358560ca70c8"
   },
   "outputs": [
    {
     "data": {
      "text/plain": [
       "array([[  3. ,   1.5, 124. , ...,   0. ,  37. ,  63. ],\n",
       "       [  5. ,   2.5, 339. , ...,   1. ,  36. ,  59. ],\n",
       "       [  3. ,   2. , 179. , ...,   1. ,  19. ,  27. ],\n",
       "       ...,\n",
       "       [  3. ,   2.5, 280. , ...,   1. ,  33. ,  38. ],\n",
       "       [  4. ,   2. , 194. , ...,   1. ,  36. ,  72. ],\n",
       "       [  3. ,   2.5, 138. , ...,   1. ,  10. ,  27. ]])"
      ]
     },
     "execution_count": 9,
     "metadata": {},
     "output_type": "execute_result"
    }
   ],
   "source": [
    "x.values # conveting the feature vector datafraem into an array"
   ]
  },
  {
   "cell_type": "code",
   "execution_count": 10,
   "metadata": {
    "id": "closing-return",
    "outputId": "8a9320a0-a362-43b7-8ccb-16810678be42"
   },
   "outputs": [
    {
     "data": {
      "text/plain": [
       "array([ 313000.    , 2384000.    ,  342000.    , ...,  416904.1667,\n",
       "        203400.    ,  220600.    ])"
      ]
     },
     "execution_count": 10,
     "metadata": {},
     "output_type": "execute_result"
    }
   ],
   "source": [
    "y.values ## conveting the feature vector datafraem into an array"
   ]
  },
  {
   "cell_type": "markdown",
   "metadata": {
    "id": "first-springer"
   },
   "source": [
    "## Creating the Random Forest Regressor using the data"
   ]
  },
  {
   "cell_type": "code",
   "execution_count": 13,
   "metadata": {
    "id": "union-africa"
   },
   "outputs": [],
   "source": [
    "from sklearn.model_selection import train_test_split # Importing train_test_split from sklearn.model_selection\n",
    "x = rent[['bedrooms','bathrooms','m2_living', 'floors', 'm2_above', 'm2_basement','m2_lot', 'view', 'quality', 'yr_built', 'renovated_last_5', 'city', 'statezip']] # Creating feature vector\n",
    "y = rent['price'] # Creating the target vector\n",
    "x_train, x_test, y_train, y_test = train_test_split(x, y, test_size=0.2)# splitting the data into training and testing data with testing data having 20% of the original dataframe."
   ]
  },
  {
   "cell_type": "code",
   "execution_count": 14,
   "metadata": {
    "colab": {
     "base_uri": "https://localhost:8080/"
    },
    "id": "alien-explanation",
    "outputId": "fa6e46aa-b36b-4268-da32-ff10ea9020ef"
   },
   "outputs": [
    {
     "data": {
      "text/plain": [
       "RandomForestRegressor(n_estimators=10)"
      ]
     },
     "execution_count": 14,
     "metadata": {},
     "output_type": "execute_result"
    }
   ],
   "source": [
    "from sklearn.ensemble import RandomForestRegressor # Importing RandomForestRegressor from sklearn.ensemble\n",
    "\n",
    "rf = RandomForestRegressor(n_estimators = 10) # Creating the random forest regressor model 10 as the n_estimator\n",
    "rf.fit(x_train,y_train) # Fitting the training data into the model"
   ]
  },
  {
   "cell_type": "code",
   "execution_count": 15,
   "metadata": {
    "colab": {
     "base_uri": "https://localhost:8080/"
    },
    "id": "duplicate-lending",
    "outputId": "69d5a0d5-993b-4e0d-a0c0-b3d8959b5872"
   },
   "outputs": [
    {
     "data": {
      "text/plain": [
       "array([1348500.     ,  910458.2    ,  645450.     , ...,  255498.33333,\n",
       "        224695.     ,  591733.33331])"
      ]
     },
     "execution_count": 15,
     "metadata": {},
     "output_type": "execute_result"
    }
   ],
   "source": [
    "\n",
    "rf.predict(x_train.values) # Predicting the price for the x_train dataset\n"
   ]
  },
  {
   "cell_type": "code",
   "execution_count": 16,
   "metadata": {
    "colab": {
     "base_uri": "https://localhost:8080/"
    },
    "id": "innovative-japanese",
    "outputId": "ae6e937e-cdf7-4b61-8187-053c9d317bd7"
   },
   "outputs": [
    {
     "data": {
      "text/plain": [
       "array([585000.    , 850000.    , 642000.    , ..., 274950.    ,\n",
       "       185000.    , 497333.3333])"
      ]
     },
     "execution_count": 16,
     "metadata": {},
     "output_type": "execute_result"
    }
   ],
   "source": [
    "y_train.values # Converting y_train values into an array"
   ]
  },
  {
   "cell_type": "markdown",
   "metadata": {
    "id": "boring-greeting"
   },
   "source": [
    "## evaluating the model on the training and validation sets using MAE"
   ]
  },
  {
   "cell_type": "code",
   "execution_count": 17,
   "metadata": {
    "id": "juvenile-center"
   },
   "outputs": [],
   "source": [
    "from sklearn.metrics import mean_absolute_error # Importing mean_absolute_error from sklearn.metrics\n"
   ]
  },
  {
   "cell_type": "markdown",
   "metadata": {
    "id": "boring-crisis"
   },
   "source": [
    "#### Evaluting the model for Training dataset"
   ]
  },
  {
   "cell_type": "code",
   "execution_count": 18,
   "metadata": {
    "colab": {
     "base_uri": "https://localhost:8080/"
    },
    "id": "classified-editing",
    "outputId": "db20c4ed-b947-4e9b-b4c2-0ab56d25f074"
   },
   "outputs": [
    {
     "name": "stdout",
     "output_type": "stream",
     "text": [
      "$60963 average error; 10.92% error\n"
     ]
    }
   ],
   "source": [
    "predictions = rf.predict(x_train) # Predicting the price for the x_train dataset\n",
    "\n",
    "e = mean_absolute_error(y_train, predictions) # Finding the absolute mean error between the y_train data and the prediction\n",
    "\n",
    "ep = e*100 / y_train.mean() # Finding the percentage absolute mean error\n",
    "\n",
    "print(f\"${e:.0f} average error; {ep:.2f}% error\") # printing the absolute mean error and the percentage absolute mean error"
   ]
  },
  {
   "cell_type": "markdown",
   "metadata": {
    "id": "standard-shark"
   },
   "source": [
    "#### Evaluting the model for validation dataset"
   ]
  },
  {
   "cell_type": "code",
   "execution_count": 19,
   "metadata": {
    "colab": {
     "base_uri": "https://localhost:8080/"
    },
    "id": "operational-jaguar",
    "outputId": "9ed5aa4b-ac2f-4bb9-c226-3559aa1984d2"
   },
   "outputs": [
    {
     "name": "stdout",
     "output_type": "stream",
     "text": [
      "$114951 average error; 21.86% error\n"
     ]
    }
   ],
   "source": [
    "predictions1 = rf.predict(x_test) # Predicting the price for the x_test dataset\n",
    "\n",
    "e1 = mean_absolute_error(y_test, predictions1) # Finding the absolute mean error between the y_train data and the prediction\n",
    "\n",
    "ep1 = e1*100 / y_test.mean() # Finding the percentage absolute mean error\n",
    "\n",
    "print(f\"${e1:.0f} average error; {ep1:.2f}% error\") # printing the absolute mean error and the percentage absolute mean error"
   ]
  },
  {
   "cell_type": "markdown",
   "metadata": {
    "id": "heard-explorer"
   },
   "source": [
    "## Part 2 - Exploring the `n_estimators` hyper-parameter\n",
    "\n",
    "In this part of the lab you should: \n",
    " - use a `for` loop to create a random forest model for each value of `n_estimators` from 1 to 30;\n",
    " - evaluate each model on both the training and validation sets using MAE;\n",
    " - visualize the results by creating a plot of `n_estimators` vs MAE for both the training and validation sets.\n",
    "\n",
    "After that you should answer the following questions:\n",
    " - Which value of `n_estimators` gives the best results? \n",
    " - Explain how you decided that this value for `n_estimators` gave the best results;\n",
    " - Why is the plot you created above not smooth?\n",
    " - Was the result here better than the result of Part 1? What % better or worse was it?"
   ]
  },
  {
   "cell_type": "code",
   "execution_count": 20,
   "metadata": {
    "colab": {
     "base_uri": "https://localhost:8080/"
    },
    "id": "opposed-fancy",
    "outputId": "afa7f71f-15a3-4a35-ecc8-79974177d4de"
   },
   "outputs": [
    {
     "name": "stdout",
     "output_type": "stream",
     "text": [
      "    N Estimator     Train MAE  Train MAE Precent       Test MAE  \\\n",
      "0             1  74161.084134          13.507528  181277.006161   \n",
      "1             2  65405.786776          11.912858  143491.926656   \n",
      "2             3  63232.862697          11.517087  149538.519483   \n",
      "3             4  66813.260785          12.169212  157275.141431   \n",
      "4             5  62295.110544          11.346287  154263.755346   \n",
      "5             6  57490.445196          10.471176  155966.084749   \n",
      "6             7  63555.990122          11.575941  155294.231272   \n",
      "7             8  60763.676045          11.067355  148440.522790   \n",
      "8             9  60553.053501          11.028993  165675.048521   \n",
      "9            10  63341.339246          11.536845  164536.782141   \n",
      "10           11  58771.513685          10.704507  133618.288876   \n",
      "11           12  56071.297906          10.212696  149951.508579   \n",
      "12           13  58991.915297          10.744651  142404.221294   \n",
      "13           14  60565.900488          11.031333  142520.863147   \n",
      "14           15  57050.401511          10.391028  132244.487822   \n",
      "15           16  56001.709939          10.200022  142446.461105   \n",
      "16           17  54403.216434           9.908876  140696.402590   \n",
      "17           18  58516.821089          10.658118  154207.351716   \n",
      "18           19  55553.946780          10.118467  144171.565880   \n",
      "19           20  55608.605576          10.128422  137540.783726   \n",
      "20           21  54693.700076           9.961784  134370.613115   \n",
      "21           22  53133.585281           9.677628  143174.412682   \n",
      "22           23  55436.605840          10.097095  142883.923951   \n",
      "23           24  53107.807064           9.672933  141925.696269   \n",
      "24           25  54337.245686           9.896860  152498.016496   \n",
      "25           26  54097.860551           9.853259  135478.785605   \n",
      "26           27  54407.413791           9.909640  145512.239126   \n",
      "27           28  54299.104195           9.889913  139471.029343   \n",
      "28           29  55075.883314          10.031394  138125.999302   \n",
      "29           30  54906.984342          10.000631  143223.733840   \n",
      "\n",
      "    Test MAE Percent  \n",
      "0          32.159897  \n",
      "1          25.456541  \n",
      "2          26.529252  \n",
      "3          27.901787  \n",
      "4          27.367544  \n",
      "5          27.669550  \n",
      "6          27.550358  \n",
      "7          26.334459  \n",
      "8          29.391993  \n",
      "9          29.190056  \n",
      "10         23.704884  \n",
      "11         26.602519  \n",
      "12         25.263574  \n",
      "13         25.284267  \n",
      "14         23.461161  \n",
      "15         25.271068  \n",
      "16         24.960594  \n",
      "17         27.357538  \n",
      "18         25.577114  \n",
      "19         24.400764  \n",
      "20         23.838352  \n",
      "21         25.400212  \n",
      "22         25.348677  \n",
      "23         25.178680  \n",
      "24         27.054289  \n",
      "25         24.034950  \n",
      "26         25.814960  \n",
      "27         24.743204  \n",
      "28         24.504585  \n",
      "29         25.408962  \n"
     ]
    }
   ],
   "source": [
    "from sklearn.model_selection import train_test_split # Importing train_test_split from sklearn.model_selection\n",
    "x = rent[['bedrooms','bathrooms','m2_living', 'floors', 'm2_above', 'm2_basement','m2_lot', 'view', 'quality', 'yr_built', 'renovated_last_5', 'city', 'statezip']] # Creating feature vector\n",
    "y = rent['price'] # Creating target vector\n",
    "x_train, x_test, y_train, y_test = train_test_split(x, y, test_size=0.2) # splitting the data into training and testing data with testing data having 20% of the original dataframe.\n",
    "\n",
    "Train1 = [] # Creating an empty list called Train1\n",
    "Train1_percent = [] # Creating an empty list called Train1_percent\n",
    "Test1 = [] # Creating an empty list called Test1\n",
    "Test1_percent = [] # Creating an empty list called Test1_percent\n",
    "\n",
    "for n in range(1,31): # Creating a for loop\n",
    "    rf2 = RandomForestRegressor(n_estimators = n) # Creating the random forest regressor model with n n_estimators\n",
    "    rf2.fit(x_train,y_train) # Training the random forest regressor model\n",
    "    predictions = rf2.predict(x_train) # Predicting the price for the x_train dataset\n",
    "    e_Train = mean_absolute_error(y_train, predictions) # Finding the absolute mean error between the y_train data and the prediction\n",
    "    ep_Train = e_Train*100 / y_train.mean() # Finding the percentage absolute mean error\n",
    "    Train1.append(e_Train) # Placing the e_Train into the Train1 list\n",
    "    Train1_percent.append(ep_Train) # Placing the ep_Train into the Train1_percent list\n",
    "    predictions1 = rf2.predict(x_test) # Predicting the price for the x_train dataset\n",
    "    e_Test = mean_absolute_error(y_test, predictions1) # Finding the absolute mean error between the y_test data and the prediction\n",
    "    ep_Test = e_Test*100 / y_test.mean() # Finding the percentage absolute mean error\n",
    "    Test1.append(e_Test) # Placing the e_Test into the Test1 list\n",
    "    Test1_percent.append(ep_Test) # Placing the ep_test into the Test1_percent list\n",
    "\n",
    "Estimator_list = range(1,31) # Creating a list called Estimator_list\n",
    "\n",
    "n_estimators_dataframe = pd.DataFrame({'N Estimator' : Estimator_list,\n",
    "                                  'Train MAE' : Train1,\n",
    "                                  'Train MAE Precent' : Train1_percent,\n",
    "                                  'Test MAE' : Test1,\n",
    "                                  'Test MAE Percent' : Test1_percent}, \n",
    "                                  columns=['N Estimator','Train MAE', 'Train MAE Precent','Test MAE','Test MAE Percent']) # Creating a dataframe called n_estimators_list\n",
    "\n",
    "  \n",
    "print(n_estimators_dataframe) # Printing the n_estimators_dataframe"
   ]
  },
  {
   "cell_type": "code",
   "execution_count": 21,
   "metadata": {
    "colab": {
     "base_uri": "https://localhost:8080/",
     "height": 299
    },
    "id": "logical-decade",
    "outputId": "c6342d8a-805c-4537-a234-6482cdb030da"
   },
   "outputs": [
    {
     "data": {
      "text/plain": [
       "<AxesSubplot:xlabel='N Estimator'>"
      ]
     },
     "execution_count": 21,
     "metadata": {},
     "output_type": "execute_result"
    },
    {
     "data": {
      "image/png": "[encoded data removed]",
      "text/plain": [
       "<Figure size 432x288 with 1 Axes>"
      ]
     },
     "metadata": {
      "needs_background": "light"
     },
     "output_type": "display_data"
    }
   ],
   "source": [
    "n_estimators_dataframe.plot.bar(x = 'N Estimator', y = ['Train MAE', 'Test MAE']) # Creating a bar graph with MAE on the y axis and the n_estimator on the x axis for both the train and test data"
   ]
  },
  {
   "cell_type": "code",
   "execution_count": 35,
   "metadata": {
    "colab": {
     "base_uri": "https://localhost:8080/"
    },
    "id": "purple-decision",
    "outputId": "02544453-8856-4d48-8e9b-0c99419abaad"
   },
   "outputs": [
    {
     "name": "stdout",
     "output_type": "stream",
     "text": [
      "53107.80706392739\n",
      "132244.48782233574\n"
     ]
    }
   ],
   "source": [
    "MAE_Train2 = n_estimators_dataframe['Train MAE'].min() # Creating a variable MAE_Train2 to identify the lowest MAE for training data\n",
    "print(MAE_Train2) # Printing MAE_Train2\n",
    "MAE_Test2 = n_estimators_dataframe['Test MAE'].min() # Creating a variable MAE_Train2 to identify the lowest MAE for testing data\n",
    "print(MAE_Test2) # Printing MAE_Test2\n"
   ]
  },
  {
   "cell_type": "code",
   "execution_count": 36,
   "metadata": {},
   "outputs": [],
   "source": [
    "part_2_train_percent = n_estimators_dataframe['Train MAE Precent'].min() # Creating variable part_2_train_percent to indentify min MAE percent\n",
    "part_2_test_percent = n_estimators_dataframe['Test MAE Percent'].min() # Creating variable part_2_test_percent to indentify min MAE percent"
   ]
  },
  {
   "cell_type": "code",
   "execution_count": 37,
   "metadata": {},
   "outputs": [
    {
     "name": "stdout",
     "output_type": "stream",
     "text": [
      "-1.2428942200545485\n",
      "1.6021841909947234\n"
     ]
    }
   ],
   "source": [
    "diffrence_Train_percent = part_2_train_percent - ep # Comparing the MAE percent \n",
    "print(diffrence_Train_percent) # Printing the diffrence_Train_percent\n",
    "diffrence_Test_percent = part_2_test_percent - ep1 # Comparing the MAE percent\n",
    "print(diffrence_Test_percent) # Printing the diffrence_Test_percent"
   ]
  },
  {
   "cell_type": "markdown",
   "metadata": {},
   "source": [
    "Q1. Which value of n_estimators gives the best results?\n",
    "*   The best n estimator for 11the Training data is 24 which correspods with an MAE of 53107.80706392739\n",
    "*   The best n estimator for the testing/validation data is 14 which correspods with an MAE of 132244.48782233574\n",
    "\n",
    "Q2. Explain how you decided that this value for n_estimators gave the best results;\n",
    "*   The mean absolute error of a dataset is the average distance between each data point and the mean. It gives us an idea about the variability in a dataset.<br>\n",
    "Here's how to calculate the mean absolute deviation.<br>\n",
    "Step 1: Calculate the mean.<br>\n",
    "Step 2: Calculate how far away each data point is from the mean using positive distances. These are called absolute deviations.<br>\n",
    "Step 3: Add those deviations together.<br>\n",
    "Step 4: Divide the sum by the number of data points.<br>\n",
    "\n",
    "Reference - <a href=\"https://www.khanacademy.org/math/statistics-probability/summarizing-quantitative-data/other-measures-of-spread/a/mean-absolute-deviation-mad-review\">link text</a>\n",
    "* For the training data      the best n_estimator is 24 as ith has the lowes MAE. As for the testing data the best n_estimator is 14 as it has the least MAE.\n",
    "\n",
    "Q3. Why is the plot you created above not smooth?\n",
    "*   In this code we did not set the parameter random state so when the loop is run the machine learning model run for different bootstrap. As there are different bootstrap for each estimators the error may vary giving us an unsmooth curve.\n",
    "    \n",
    "Q4. Was the result here better than the result of Part 1? What % better or worse was it?\n",
    "\n",
    "*   Yes, the result in the part 2 are better than the result in the part 1 for training dataset, the result are 1.24% better. on the other hand, for the testing data the result of part 1 has a better MAE percent than part 2 by 1.60%\n",
    "\n"
   ]
  },
  {
   "cell_type": "code",
   "execution_count": null,
   "metadata": {},
   "outputs": [],
   "source": []
  },
  {
   "cell_type": "markdown",
   "metadata": {
    "id": "3-8HmMHbawKG"
   },
   "source": [
    "# Caomparision analysis"
   ]
  },
  {
   "cell_type": "markdown",
   "metadata": {},
   "source": [
    "## Part 3 - Exploring the `max_features` hyper-parameter\n",
    "\n",
    "In this part of the lab you should: \n",
    " - use a `for` loop to create a random forest model for each value of `max_features` from 1 to the total number of features in the data;\n",
    " - for each model, use the value for `n_estimators` as determined in Part 2;\n",
    " - evaluate each model on both the training and validation sets using MAE;\n",
    " - visualize the results by creating a plot of `max_features` vs MAE for both the training and validation sets.\n",
    "\n",
    "After that you should answer the following questions:\n",
    " - Which value of `max_features` gives the best results?\n",
    " - Explain how you decided that this value for `max_features` gave the best results;\n",
    " - Was the result here better than the result of Part 2? What % better or worse was it?"
   ]
  },
  {
   "cell_type": "code",
   "execution_count": 43,
   "metadata": {},
   "outputs": [
    {
     "name": "stdout",
     "output_type": "stream",
     "text": [
      "    Max Feature Estimator     Train MAE  Train MAE Precent       Test MAE  \\\n",
      "0                       1  61335.877413          11.220727  171507.903341   \n",
      "1                       2  61138.691433          11.184654  152093.489420   \n",
      "2                       3  58719.748425          10.742135  149954.409402   \n",
      "3                       4  58000.198492          10.610501  149489.822784   \n",
      "4                       5  58962.684974          10.786577  151953.731209   \n",
      "5                       6  57770.166570          10.568419  139474.964956   \n",
      "6                       7  54193.368134           9.914083  150743.854346   \n",
      "7                       8  57219.157068          10.467618  146149.817343   \n",
      "8                       9  54011.891269           9.880884  148649.450066   \n",
      "9                      10  55208.849737          10.099854  139348.736612   \n",
      "10                     11  52478.097933           9.600293  149403.492129   \n",
      "11                     12  55654.898730          10.181454  135796.336914   \n",
      "12                     13  57353.109076          10.492123  138354.215090   \n",
      "\n",
      "    Test MAE Percent  \n",
      "0          29.916206  \n",
      "1          26.529740  \n",
      "2          26.156619  \n",
      "3          26.075581  \n",
      "4          26.505362  \n",
      "5          24.328685  \n",
      "6          26.294323  \n",
      "7          25.492983  \n",
      "8          25.928995  \n",
      "9          24.306667  \n",
      "10         26.060523  \n",
      "11         23.687020  \n",
      "12         24.133192  \n"
     ]
    }
   ],
   "source": [
    "from sklearn.model_selection import train_test_split # Importing train_test_split from sklearn.model_selection\n",
    "x = rent[['bedrooms','bathrooms','m2_living', 'floors', 'm2_above', 'm2_basement','m2_lot', 'view', 'quality', 'yr_built', 'renovated_last_5', 'city', 'statezip']] # Creating feature vector\n",
    "y = rent['price'] # Creating feature vector\n",
    "x_train, x_test, y_train, y_test = train_test_split(x, y, test_size=0.2) # splitting the data into training and testing data with testing data having 20% of the original dataframe.\n",
    "\n",
    "Train2 = [] # Creating an empty list called Train2\n",
    "Train2_percent = [] # Creating an empty list called Train2_percernt\n",
    "Test2 = [] # Creating an empty list called Test2\n",
    "Test2_percent = [] # Creating an empty list called Test2_percent\n",
    "\n",
    "\n",
    "for m in range(1,14): # Creating a for loop\n",
    "    rf3 = RandomForestRegressor(n_estimators = 14,max_features = m) # Creating the random forest regressor model with 14 is the n_estimator  as the n_estimator and m max_features(14 as it is the n_estimator as determined for the testing data)\n",
    "    rf3.fit(x_train,y_train) # Training the random forest regressor model\n",
    "    predictions = rf3.predict(x_train) # Predicting the price for the x_train dataset\n",
    "    e_Train = mean_absolute_error(y_train, predictions) # Finding the absolute mean error between the y_train data and the prediction\n",
    "    ep_Train = e_Train*100 / y_train.mean() # Finding the percentage absolute mean error\n",
    "    Train2.append(e_Train) # Placing the e_Train into the Train2 list\n",
    "    Train2_percent.append(ep_Train) # Placing the e_Train into the Train2_percent list\n",
    "    predictions1 = rf3.predict(x_test) # Predicting the price for the x_test dataset\n",
    "    e_Test = mean_absolute_error(y_test, predictions1) # Finding the absolute mean error between the y_test data and the prediction\n",
    "    ep_Test = e_Test*100 / y_test.mean() # Finding the percentage absolute mean error\n",
    "    Test2.append(e_Test) # Placing the e_Train into the Test2 list\n",
    "    Test2_percent.append(ep_Test) # Placing the e_Train into the Test2_percent list\n",
    "\n",
    "Estimator_list1 = range(1,14) # Creating a list called Estimator_list1\n",
    "\n",
    "max_features_estimators_dataframe = pd.DataFrame({'Max Feature Estimator' : Estimator_list1,\n",
    "                                            'Train MAE' : Train2,\n",
    "                                            'Train MAE Precent' : Train2_percent,\n",
    "                                            'Test MAE' : Test2,\n",
    "                                            'Test MAE Percent' : Test2_percent}, \n",
    "                                            columns=['Max Feature Estimator','Train MAE', 'Train MAE Precent','Test MAE','Test MAE Percent']) # Creating a dataframe called max_features_estimators_list\n",
    "\n",
    "print(max_features_estimators_dataframe) # Printing the max_features_estimators_dataframe"
   ]
  },
  {
   "cell_type": "code",
   "execution_count": 44,
   "metadata": {
    "colab": {
     "base_uri": "https://localhost:8080/",
     "height": 299
    },
    "id": "W4SjbxEaeHfD",
    "outputId": "e8d94174-1af7-4aa7-8a2e-51dd2fe91623"
   },
   "outputs": [
    {
     "data": {
      "text/plain": [
       "<AxesSubplot:xlabel='Max Feature Estimator'>"
      ]
     },
     "execution_count": 44,
     "metadata": {},
     "output_type": "execute_result"
    },
    {
     "data": {
      "image/png": "[encoded data removed]",
      "text/plain": [
       "<Figure size 432x288 with 1 Axes>"
      ]
     },
     "metadata": {
      "needs_background": "light"
     },
     "output_type": "display_data"
    }
   ],
   "source": [
    "max_features_estimators_dataframe.plot.bar(x = 'Max Feature Estimator', y = ['Train MAE', 'Test MAE']) # Creating a bar graph with MAE on the y axis and the max_features on the x axis for both the train and test data"
   ]
  },
  {
   "cell_type": "code",
   "execution_count": 45,
   "metadata": {
    "colab": {
     "base_uri": "https://localhost:8080/"
    },
    "id": "ayZ6JMFAeXEF",
    "outputId": "f630b90f-9de5-4635-d2ac-6528f4b77044"
   },
   "outputs": [
    {
     "name": "stdout",
     "output_type": "stream",
     "text": [
      "52478.09793286685\n",
      "135796.33691382763\n"
     ]
    }
   ],
   "source": [
    "MAE_Train3 = max_features_estimators_dataframe['Train MAE'].min() # Creating a variable MAE_Train3 to identify the lowest MAE for training data\n",
    "print(MAE_Train3) # Printing MAE_Train3\n",
    "MAE_Test3 = max_features_estimators_dataframe['Test MAE'].min() # Creating a variable MAE_Test3 to identify the lowest MAE for training data\n",
    "print(MAE_Test3) # Printing MAE_Test3"
   ]
  },
  {
   "cell_type": "code",
   "execution_count": 46,
   "metadata": {},
   "outputs": [],
   "source": [
    "part_3_train_percent = max_features_estimators_dataframe['Train MAE Precent'].min() # Creating variable part_3_train_percent to indentify min MAE percent\n",
    "part_3_test_percent = max_features_estimators_dataframe['Test MAE Percent'].min() # Creating variable part_3_test_percent to indentify min MAE percent"
   ]
  },
  {
   "cell_type": "code",
   "execution_count": 47,
   "metadata": {},
   "outputs": [
    {
     "name": "stdout",
     "output_type": "stream",
     "text": [
      "-1.2428942200545485\n",
      "0.22585879778237583\n"
     ]
    }
   ],
   "source": [
    "diffrence_Train_percent1 = part_3_train_percent - part_2_train_percent# Comparing the MAE percent\n",
    "print(diffrence_Train_percent) # Printing the diffrence_Train_percent\n",
    "diffrence_Test_percent1 = part_3_test_percent - part_2_test_percent # Comparing the MAE percent \n",
    "print(diffrence_Test_percent1) # Printing the diffrence_Test_percent"
   ]
  },
  {
   "cell_type": "markdown",
   "metadata": {},
   "source": [
    "Q1. Which value of max_features gives the best results?\n",
    "*   The best max feature for the Training data is 12 which correspods with an MAE of 50606.62521440066\n",
    "*   The best Max feature for the testing/validation data is 9 which correspods with an MAE of 149714.99558194928\n",
    "\n",
    "Q2. Explain how you decided that this value for max_features gave the best results ?\n",
    "*   As the error for the Max_Feature = 13 is less so it gives us the best result for both the training and testing data.\n",
    "\n",
    "Q3. Was the result here better than the result of Part 2? What % better or worse was it?\n",
    "*   Yes, the result in the part 3 are better than the result in the part 2 for training dataset, the result are 1.24% better. on the other hand, for the testing data the result of part 2 has a better MAE percent than part 3 by 0.22%"
   ]
  },
  {
   "cell_type": "markdown",
   "metadata": {},
   "source": [
    "### Submitted By\n",
    "\n",
    "* Sri Sankeerth Koduru - 0768993\n",
    "* Keshav Yadav - 0770087\n",
    "* Gurpinder Kaur Matharu - 0749347"
   ]
  },
  {
   "cell_type": "code",
   "execution_count": null,
   "metadata": {},
   "outputs": [],
   "source": []
  }
 ],
 "metadata": {
  "colab": {
   "collapsed_sections": [],
   "name": "Lab_1_Par1 (1).ipynb",
   "provenance": [],
   "toc_visible": true
  },
  "kernelspec": {
   "display_name": "Python 3",
   "language": "python",
   "name": "python3"
  },
  "language_info": {
   "codemirror_mode": {
    "name": "ipython",
    "version": 3
   },
   "file_extension": ".py",
   "mimetype": "text/x-python",
   "name": "python",
   "nbconvert_exporter": "python",
   "pygments_lexer": "ipython3",
   "version": "3.8.5"
  }
 },
 "nbformat": 4,
 "nbformat_minor": 5
}
